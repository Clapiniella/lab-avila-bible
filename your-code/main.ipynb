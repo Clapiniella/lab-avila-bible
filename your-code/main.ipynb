{
 "cells": [
  {
   "cell_type": "markdown",
   "metadata": {},
   "source": [
    "# Lab | Avila Bible "
   ]
  },
  {
   "cell_type": "markdown",
   "metadata": {},
   "source": [
    "In this lab, we will explore the [**Avila Bible dataset**](https://archive.ics.uci.edu/ml/datasets/Avila) which has been extracted from 800 images of the 'Avila Bible', an XII century giant Latin copy of the Bible. The prediction task consists in associating each pattern to a copyist. You will use supervised learning algorithms to figure out what feature patterns each copyist are likely to have and use our model to predict those copyist."
   ]
  },
  {
   "cell_type": "markdown",
   "metadata": {},
   "source": [
    "-----------------------------------------------------------------------------------------------------------------"
   ]
  },
  {
   "cell_type": "markdown",
   "metadata": {},
   "source": [
    "## Before your start:\n",
    "    - Read the README.md file,\n",
    "    - Comment as much as you can and use the APIla-bible in the README.md,\n",
    "    - Happy learning!"
   ]
  },
  {
   "cell_type": "code",
   "execution_count": 45,
   "metadata": {},
   "outputs": [],
   "source": [
    "# Import your libraries\n",
    "import pandas as pd\n",
    "import requests\n",
    "import seaborn as sns\n",
    "from sklearn.linear_model import LogisticRegression\n",
    "from sklearn.model_selection import train_test_split\n",
    "from sklearn.metrics import accuracy_score, confusion_matrix,precision_score,recall_score\n",
    "from sklearn import svm, tree\n",
    "from sklearn.svm import SVC\n",
    "from sklearn.ensemble import RandomForestClassifier,GradientBoostingClassifier\n",
    "from sklearn.calibration import CalibratedClassifierCV\n",
    "from sklearn.metrics import classification_report\n",
    "from sklearn.svm import LinearSVC"
   ]
  },
  {
   "cell_type": "markdown",
   "metadata": {},
   "source": [
    "![machine-learning](https://miro.medium.com/proxy/1*halC1X4ydv_3yHYxKqvrwg.gif)"
   ]
  },
  {
   "cell_type": "markdown",
   "metadata": {},
   "source": [
    "The Avila data set has been extracted from 800 images of the the **Avila Bible**, a giant Latin copy of the whole Bible produced during the XII century between Italy and Spain. The palaeographic analysis of the  manuscript has  individuated the presence of 12 copyists. The pages written by each copyist are not equally numerous. \n",
    "Each pattern contains 10 features and corresponds to a group of 4 consecutive rows."
   ]
  },
  {
   "cell_type": "markdown",
   "metadata": {},
   "source": [
    "## What am I expected to do?"
   ]
  },
  {
   "cell_type": "markdown",
   "metadata": {},
   "source": [
    "Well, your prediction task consists in associating each pattern to one of the 8 monks we will be evaluating (labeled as:  Marcus, Clarius, Philippus, Coronavirucus, Mongucus, Paithonius, Ubuntius, Esequlius). For that aim, you should: \n",
    "- Train a minimum of 4 different models\n",
    "- Perform a minimum of 4 Feature Extraction and Engineering techniques\n",
    "- Must contain a summary of the machine learning tools and algorithms\n",
    "- and the results or the score obtained with each of them\n",
    "\n",
    "You won't get much more instructions from now on. Remember to comment your code as much as you can. Keep the requirements in mind and have fun! "
   ]
  },
  {
   "cell_type": "markdown",
   "metadata": {},
   "source": [
    "Just one last piece of advice, take a moment to explore the data, remember this dataset contains two files: **train** and **test**. You will find both files in `data` folder. The **test** files contains the data you will predict for, therefore it does not include the labels.\n",
    "Use the **train** dataset as you wish, but don't forget to split it into **train** and **test** again so you can evaluate your models. Just be sure to train it again with the whole data before predicting.\n",
    "We have also included a **sample submission** which is of the exact shape and format you must use when evaluating your predictions against the groundtruth through the `APIla-bible`. It won't work unless it is the exact same shape. \n",
    "\n"
   ]
  },
  {
   "cell_type": "markdown",
   "metadata": {},
   "source": [
    "#### Train dataset"
   ]
  },
  {
   "cell_type": "code",
   "execution_count": 2,
   "metadata": {},
   "outputs": [],
   "source": [
    "train_dataset = pd.read_csv('../data/training_dataset.csv', index_col=0)"
   ]
  },
  {
   "cell_type": "code",
   "execution_count": 3,
   "metadata": {},
   "outputs": [
    {
     "data": {
      "text/html": [
       "<div>\n",
       "<style scoped>\n",
       "    .dataframe tbody tr th:only-of-type {\n",
       "        vertical-align: middle;\n",
       "    }\n",
       "\n",
       "    .dataframe tbody tr th {\n",
       "        vertical-align: top;\n",
       "    }\n",
       "\n",
       "    .dataframe thead th {\n",
       "        text-align: right;\n",
       "    }\n",
       "</style>\n",
       "<table border=\"1\" class=\"dataframe\">\n",
       "  <thead>\n",
       "    <tr style=\"text-align: right;\">\n",
       "      <th></th>\n",
       "      <th>0</th>\n",
       "      <th>1</th>\n",
       "      <th>2</th>\n",
       "      <th>3</th>\n",
       "      <th>4</th>\n",
       "      <th>5</th>\n",
       "      <th>6</th>\n",
       "      <th>7</th>\n",
       "      <th>8</th>\n",
       "      <th>9</th>\n",
       "      <th>10</th>\n",
       "    </tr>\n",
       "  </thead>\n",
       "  <tbody>\n",
       "    <tr>\n",
       "      <th>0</th>\n",
       "      <td>0.241386</td>\n",
       "      <td>0.109171</td>\n",
       "      <td>-0.127126</td>\n",
       "      <td>0.380626</td>\n",
       "      <td>0.172340</td>\n",
       "      <td>0.314889</td>\n",
       "      <td>0.484429</td>\n",
       "      <td>0.316412</td>\n",
       "      <td>0.188810</td>\n",
       "      <td>0.134922</td>\n",
       "      <td>Marcus</td>\n",
       "    </tr>\n",
       "    <tr>\n",
       "      <th>1</th>\n",
       "      <td>0.303106</td>\n",
       "      <td>0.352558</td>\n",
       "      <td>0.082701</td>\n",
       "      <td>0.703981</td>\n",
       "      <td>0.261718</td>\n",
       "      <td>-0.391033</td>\n",
       "      <td>0.408929</td>\n",
       "      <td>1.045014</td>\n",
       "      <td>0.282354</td>\n",
       "      <td>-0.448209</td>\n",
       "      <td>Clarius</td>\n",
       "    </tr>\n",
       "    <tr>\n",
       "      <th>2</th>\n",
       "      <td>-0.116585</td>\n",
       "      <td>0.281897</td>\n",
       "      <td>0.175168</td>\n",
       "      <td>-0.152490</td>\n",
       "      <td>0.261718</td>\n",
       "      <td>-0.889332</td>\n",
       "      <td>0.371178</td>\n",
       "      <td>-0.024328</td>\n",
       "      <td>0.905984</td>\n",
       "      <td>-0.877830</td>\n",
       "      <td>Philippus</td>\n",
       "    </tr>\n",
       "    <tr>\n",
       "      <th>3</th>\n",
       "      <td>-0.326430</td>\n",
       "      <td>-0.652394</td>\n",
       "      <td>0.384996</td>\n",
       "      <td>-1.694222</td>\n",
       "      <td>-0.185173</td>\n",
       "      <td>-1.138481</td>\n",
       "      <td>-0.232828</td>\n",
       "      <td>-1.747116</td>\n",
       "      <td>-1.183175</td>\n",
       "      <td>-0.807380</td>\n",
       "      <td>Philippus</td>\n",
       "    </tr>\n",
       "    <tr>\n",
       "      <th>4</th>\n",
       "      <td>-0.437525</td>\n",
       "      <td>-0.471816</td>\n",
       "      <td>0.463236</td>\n",
       "      <td>-0.545248</td>\n",
       "      <td>0.261718</td>\n",
       "      <td>-0.972381</td>\n",
       "      <td>0.824183</td>\n",
       "      <td>-3.108388</td>\n",
       "      <td>-2.991700</td>\n",
       "      <td>-1.141030</td>\n",
       "      <td>Philippus</td>\n",
       "    </tr>\n",
       "  </tbody>\n",
       "</table>\n",
       "</div>"
      ],
      "text/plain": [
       "          0         1         2         3         4         5         6  \\\n",
       "0  0.241386  0.109171 -0.127126  0.380626  0.172340  0.314889  0.484429   \n",
       "1  0.303106  0.352558  0.082701  0.703981  0.261718 -0.391033  0.408929   \n",
       "2 -0.116585  0.281897  0.175168 -0.152490  0.261718 -0.889332  0.371178   \n",
       "3 -0.326430 -0.652394  0.384996 -1.694222 -0.185173 -1.138481 -0.232828   \n",
       "4 -0.437525 -0.471816  0.463236 -0.545248  0.261718 -0.972381  0.824183   \n",
       "\n",
       "          7         8         9         10  \n",
       "0  0.316412  0.188810  0.134922     Marcus  \n",
       "1  1.045014  0.282354 -0.448209    Clarius  \n",
       "2 -0.024328  0.905984 -0.877830  Philippus  \n",
       "3 -1.747116 -1.183175 -0.807380  Philippus  \n",
       "4 -3.108388 -2.991700 -1.141030  Philippus  "
      ]
     },
     "execution_count": 3,
     "metadata": {},
     "output_type": "execute_result"
    }
   ],
   "source": [
    "train_dataset.head()"
   ]
  },
  {
   "cell_type": "markdown",
   "metadata": {},
   "source": [
    "#### Test dataset\n"
   ]
  },
  {
   "cell_type": "code",
   "execution_count": 4,
   "metadata": {},
   "outputs": [],
   "source": [
    "test_dataset = pd.read_csv('../data/test_dataset.csv', index_col=0)"
   ]
  },
  {
   "cell_type": "code",
   "execution_count": 5,
   "metadata": {},
   "outputs": [
    {
     "data": {
      "text/html": [
       "<div>\n",
       "<style scoped>\n",
       "    .dataframe tbody tr th:only-of-type {\n",
       "        vertical-align: middle;\n",
       "    }\n",
       "\n",
       "    .dataframe tbody tr th {\n",
       "        vertical-align: top;\n",
       "    }\n",
       "\n",
       "    .dataframe thead th {\n",
       "        text-align: right;\n",
       "    }\n",
       "</style>\n",
       "<table border=\"1\" class=\"dataframe\">\n",
       "  <thead>\n",
       "    <tr style=\"text-align: right;\">\n",
       "      <th></th>\n",
       "      <th>0</th>\n",
       "      <th>1</th>\n",
       "      <th>2</th>\n",
       "      <th>3</th>\n",
       "      <th>4</th>\n",
       "      <th>5</th>\n",
       "      <th>6</th>\n",
       "      <th>7</th>\n",
       "      <th>8</th>\n",
       "      <th>9</th>\n",
       "    </tr>\n",
       "  </thead>\n",
       "  <tbody>\n",
       "    <tr>\n",
       "      <th>0</th>\n",
       "      <td>-0.017834</td>\n",
       "      <td>0.132725</td>\n",
       "      <td>0.125378</td>\n",
       "      <td>1.357345</td>\n",
       "      <td>0.261718</td>\n",
       "      <td>0.190314</td>\n",
       "      <td>0.182426</td>\n",
       "      <td>0.445253</td>\n",
       "      <td>-0.715453</td>\n",
       "      <td>0.189796</td>\n",
       "    </tr>\n",
       "    <tr>\n",
       "      <th>1</th>\n",
       "      <td>-0.202992</td>\n",
       "      <td>-0.000745</td>\n",
       "      <td>-3.210528</td>\n",
       "      <td>-0.527256</td>\n",
       "      <td>0.082961</td>\n",
       "      <td>0.771662</td>\n",
       "      <td>0.144676</td>\n",
       "      <td>0.098572</td>\n",
       "      <td>0.251173</td>\n",
       "      <td>0.745333</td>\n",
       "    </tr>\n",
       "    <tr>\n",
       "      <th>2</th>\n",
       "      <td>1.019049</td>\n",
       "      <td>0.211237</td>\n",
       "      <td>-0.155578</td>\n",
       "      <td>-0.311855</td>\n",
       "      <td>0.261718</td>\n",
       "      <td>0.107265</td>\n",
       "      <td>0.484429</td>\n",
       "      <td>0.339303</td>\n",
       "      <td>-0.310094</td>\n",
       "      <td>-0.049630</td>\n",
       "    </tr>\n",
       "    <tr>\n",
       "      <th>3</th>\n",
       "      <td>0.451232</td>\n",
       "      <td>-0.267686</td>\n",
       "      <td>0.335206</td>\n",
       "      <td>-0.831336</td>\n",
       "      <td>0.261718</td>\n",
       "      <td>0.024215</td>\n",
       "      <td>0.220177</td>\n",
       "      <td>0.988787</td>\n",
       "      <td>0.032902</td>\n",
       "      <td>0.025485</td>\n",
       "    </tr>\n",
       "    <tr>\n",
       "      <th>4</th>\n",
       "      <td>-0.227680</td>\n",
       "      <td>0.109171</td>\n",
       "      <td>0.413447</td>\n",
       "      <td>0.118917</td>\n",
       "      <td>0.172340</td>\n",
       "      <td>0.480988</td>\n",
       "      <td>0.522180</td>\n",
       "      <td>0.091562</td>\n",
       "      <td>0.313536</td>\n",
       "      <td>0.256389</td>\n",
       "    </tr>\n",
       "  </tbody>\n",
       "</table>\n",
       "</div>"
      ],
      "text/plain": [
       "          0         1         2         3         4         5         6  \\\n",
       "0 -0.017834  0.132725  0.125378  1.357345  0.261718  0.190314  0.182426   \n",
       "1 -0.202992 -0.000745 -3.210528 -0.527256  0.082961  0.771662  0.144676   \n",
       "2  1.019049  0.211237 -0.155578 -0.311855  0.261718  0.107265  0.484429   \n",
       "3  0.451232 -0.267686  0.335206 -0.831336  0.261718  0.024215  0.220177   \n",
       "4 -0.227680  0.109171  0.413447  0.118917  0.172340  0.480988  0.522180   \n",
       "\n",
       "          7         8         9  \n",
       "0  0.445253 -0.715453  0.189796  \n",
       "1  0.098572  0.251173  0.745333  \n",
       "2  0.339303 -0.310094 -0.049630  \n",
       "3  0.988787  0.032902  0.025485  \n",
       "4  0.091562  0.313536  0.256389  "
      ]
     },
     "execution_count": 5,
     "metadata": {},
     "output_type": "execute_result"
    }
   ],
   "source": [
    "test_dataset.head()"
   ]
  },
  {
   "cell_type": "markdown",
   "metadata": {},
   "source": [
    "#### Sample submission"
   ]
  },
  {
   "cell_type": "code",
   "execution_count": 6,
   "metadata": {},
   "outputs": [],
   "source": [
    "sample_submission = pd.read_csv('../data/sample_submission.csv', header=None, index_col=0)"
   ]
  },
  {
   "cell_type": "code",
   "execution_count": 7,
   "metadata": {},
   "outputs": [
    {
     "data": {
      "text/html": [
       "<div>\n",
       "<style scoped>\n",
       "    .dataframe tbody tr th:only-of-type {\n",
       "        vertical-align: middle;\n",
       "    }\n",
       "\n",
       "    .dataframe tbody tr th {\n",
       "        vertical-align: top;\n",
       "    }\n",
       "\n",
       "    .dataframe thead th {\n",
       "        text-align: right;\n",
       "    }\n",
       "</style>\n",
       "<table border=\"1\" class=\"dataframe\">\n",
       "  <thead>\n",
       "    <tr style=\"text-align: right;\">\n",
       "      <th></th>\n",
       "      <th>1</th>\n",
       "    </tr>\n",
       "    <tr>\n",
       "      <th>0</th>\n",
       "      <th></th>\n",
       "    </tr>\n",
       "  </thead>\n",
       "  <tbody>\n",
       "    <tr>\n",
       "      <th>0</th>\n",
       "      <td>Philippus</td>\n",
       "    </tr>\n",
       "    <tr>\n",
       "      <th>1</th>\n",
       "      <td>Ubuntius</td>\n",
       "    </tr>\n",
       "    <tr>\n",
       "      <th>2</th>\n",
       "      <td>Esequlius</td>\n",
       "    </tr>\n",
       "    <tr>\n",
       "      <th>3</th>\n",
       "      <td>Coronavirucus</td>\n",
       "    </tr>\n",
       "    <tr>\n",
       "      <th>4</th>\n",
       "      <td>Philippus</td>\n",
       "    </tr>\n",
       "  </tbody>\n",
       "</table>\n",
       "</div>"
      ],
      "text/plain": [
       "               1\n",
       "0               \n",
       "0      Philippus\n",
       "1       Ubuntius\n",
       "2      Esequlius\n",
       "3  Coronavirucus\n",
       "4      Philippus"
      ]
     },
     "execution_count": 7,
     "metadata": {},
     "output_type": "execute_result"
    }
   ],
   "source": [
    "sample_submission.head()"
   ]
  },
  {
   "cell_type": "markdown",
   "metadata": {},
   "source": [
    "`Keep calm and code on!`"
   ]
  },
  {
   "cell_type": "markdown",
   "metadata": {},
   "source": [
    "### Feature extraction and Engineering techniques"
   ]
  },
  {
   "cell_type": "code",
   "execution_count": 8,
   "metadata": {},
   "outputs": [
    {
     "data": {
      "text/plain": [
       "(12017, 11)"
      ]
     },
     "execution_count": 8,
     "metadata": {},
     "output_type": "execute_result"
    }
   ],
   "source": [
    "train_dataset.shape"
   ]
  },
  {
   "cell_type": "code",
   "execution_count": 9,
   "metadata": {},
   "outputs": [
    {
     "data": {
      "text/plain": [
       "0     float64\n",
       "1     float64\n",
       "2     float64\n",
       "3     float64\n",
       "4     float64\n",
       "5     float64\n",
       "6     float64\n",
       "7     float64\n",
       "8     float64\n",
       "9     float64\n",
       "10     object\n",
       "dtype: object"
      ]
     },
     "execution_count": 9,
     "metadata": {},
     "output_type": "execute_result"
    }
   ],
   "source": [
    "train_dataset.dtypes"
   ]
  },
  {
   "cell_type": "code",
   "execution_count": 10,
   "metadata": {},
   "outputs": [
    {
     "data": {
      "text/plain": [
       "0     0\n",
       "1     0\n",
       "2     0\n",
       "3     0\n",
       "4     0\n",
       "5     0\n",
       "6     0\n",
       "7     0\n",
       "8     0\n",
       "9     0\n",
       "10    0\n",
       "dtype: int64"
      ]
     },
     "execution_count": 10,
     "metadata": {},
     "output_type": "execute_result"
    }
   ],
   "source": [
    "train_dataset.isnull().sum()#there is no missing data "
   ]
  },
  {
   "cell_type": "code",
   "execution_count": 11,
   "metadata": {},
   "outputs": [
    {
     "data": {
      "text/html": [
       "<div>\n",
       "<style scoped>\n",
       "    .dataframe tbody tr th:only-of-type {\n",
       "        vertical-align: middle;\n",
       "    }\n",
       "\n",
       "    .dataframe tbody tr th {\n",
       "        vertical-align: top;\n",
       "    }\n",
       "\n",
       "    .dataframe thead th {\n",
       "        text-align: right;\n",
       "    }\n",
       "</style>\n",
       "<table border=\"1\" class=\"dataframe\">\n",
       "  <thead>\n",
       "    <tr style=\"text-align: right;\">\n",
       "      <th></th>\n",
       "      <th>0</th>\n",
       "      <th>1</th>\n",
       "      <th>2</th>\n",
       "      <th>3</th>\n",
       "      <th>4</th>\n",
       "      <th>5</th>\n",
       "      <th>6</th>\n",
       "      <th>7</th>\n",
       "      <th>8</th>\n",
       "      <th>9</th>\n",
       "    </tr>\n",
       "  </thead>\n",
       "  <tbody>\n",
       "    <tr>\n",
       "      <th>count</th>\n",
       "      <td>12017.000000</td>\n",
       "      <td>12017.000000</td>\n",
       "      <td>12017.000000</td>\n",
       "      <td>12017.000000</td>\n",
       "      <td>12017.000000</td>\n",
       "      <td>12017.000000</td>\n",
       "      <td>12017.000000</td>\n",
       "      <td>12017.000000</td>\n",
       "      <td>12017.000000</td>\n",
       "      <td>12017.000000</td>\n",
       "    </tr>\n",
       "    <tr>\n",
       "      <th>mean</th>\n",
       "      <td>0.021280</td>\n",
       "      <td>0.030684</td>\n",
       "      <td>-0.000379</td>\n",
       "      <td>-0.022127</td>\n",
       "      <td>0.006801</td>\n",
       "      <td>-0.001279</td>\n",
       "      <td>0.032540</td>\n",
       "      <td>-0.006720</td>\n",
       "      <td>-0.011368</td>\n",
       "      <td>-0.026942</td>\n",
       "    </tr>\n",
       "    <tr>\n",
       "      <th>std</th>\n",
       "      <td>1.004481</td>\n",
       "      <td>3.661030</td>\n",
       "      <td>1.072319</td>\n",
       "      <td>1.002045</td>\n",
       "      <td>0.963679</td>\n",
       "      <td>1.108192</td>\n",
       "      <td>1.245215</td>\n",
       "      <td>1.012995</td>\n",
       "      <td>1.085821</td>\n",
       "      <td>0.985799</td>\n",
       "    </tr>\n",
       "    <tr>\n",
       "      <th>min</th>\n",
       "      <td>-3.498799</td>\n",
       "      <td>-2.426761</td>\n",
       "      <td>-3.210528</td>\n",
       "      <td>-5.440122</td>\n",
       "      <td>-4.922215</td>\n",
       "      <td>-7.450257</td>\n",
       "      <td>-11.935457</td>\n",
       "      <td>-4.164819</td>\n",
       "      <td>-5.486218</td>\n",
       "      <td>-6.719324</td>\n",
       "    </tr>\n",
       "    <tr>\n",
       "      <th>25%</th>\n",
       "      <td>-0.128929</td>\n",
       "      <td>-0.259834</td>\n",
       "      <td>0.064919</td>\n",
       "      <td>-0.542563</td>\n",
       "      <td>0.172340</td>\n",
       "      <td>-0.598658</td>\n",
       "      <td>-0.006326</td>\n",
       "      <td>-0.555747</td>\n",
       "      <td>-0.372457</td>\n",
       "      <td>-0.528135</td>\n",
       "    </tr>\n",
       "    <tr>\n",
       "      <th>50%</th>\n",
       "      <td>0.056229</td>\n",
       "      <td>-0.055704</td>\n",
       "      <td>0.214288</td>\n",
       "      <td>0.080127</td>\n",
       "      <td>0.261718</td>\n",
       "      <td>-0.058835</td>\n",
       "      <td>0.220177</td>\n",
       "      <td>0.101115</td>\n",
       "      <td>0.064084</td>\n",
       "      <td>-0.053548</td>\n",
       "    </tr>\n",
       "    <tr>\n",
       "      <th>75%</th>\n",
       "      <td>0.216699</td>\n",
       "      <td>0.203385</td>\n",
       "      <td>0.349432</td>\n",
       "      <td>0.601905</td>\n",
       "      <td>0.261718</td>\n",
       "      <td>0.522513</td>\n",
       "      <td>0.446679</td>\n",
       "      <td>0.646377</td>\n",
       "      <td>0.500624</td>\n",
       "      <td>0.491862</td>\n",
       "    </tr>\n",
       "    <tr>\n",
       "      <th>max</th>\n",
       "      <td>11.819916</td>\n",
       "      <td>386.000000</td>\n",
       "      <td>50.000000</td>\n",
       "      <td>3.987152</td>\n",
       "      <td>1.066121</td>\n",
       "      <td>53.000000</td>\n",
       "      <td>83.000000</td>\n",
       "      <td>13.173081</td>\n",
       "      <td>44.000000</td>\n",
       "      <td>11.911338</td>\n",
       "    </tr>\n",
       "  </tbody>\n",
       "</table>\n",
       "</div>"
      ],
      "text/plain": [
       "                  0             1             2             3             4  \\\n",
       "count  12017.000000  12017.000000  12017.000000  12017.000000  12017.000000   \n",
       "mean       0.021280      0.030684     -0.000379     -0.022127      0.006801   \n",
       "std        1.004481      3.661030      1.072319      1.002045      0.963679   \n",
       "min       -3.498799     -2.426761     -3.210528     -5.440122     -4.922215   \n",
       "25%       -0.128929     -0.259834      0.064919     -0.542563      0.172340   \n",
       "50%        0.056229     -0.055704      0.214288      0.080127      0.261718   \n",
       "75%        0.216699      0.203385      0.349432      0.601905      0.261718   \n",
       "max       11.819916    386.000000     50.000000      3.987152      1.066121   \n",
       "\n",
       "                  5             6             7             8             9  \n",
       "count  12017.000000  12017.000000  12017.000000  12017.000000  12017.000000  \n",
       "mean      -0.001279      0.032540     -0.006720     -0.011368     -0.026942  \n",
       "std        1.108192      1.245215      1.012995      1.085821      0.985799  \n",
       "min       -7.450257    -11.935457     -4.164819     -5.486218     -6.719324  \n",
       "25%       -0.598658     -0.006326     -0.555747     -0.372457     -0.528135  \n",
       "50%       -0.058835      0.220177      0.101115      0.064084     -0.053548  \n",
       "75%        0.522513      0.446679      0.646377      0.500624      0.491862  \n",
       "max       53.000000     83.000000     13.173081     44.000000     11.911338  "
      ]
     },
     "execution_count": 11,
     "metadata": {},
     "output_type": "execute_result"
    }
   ],
   "source": [
    "train_dataset.describe()"
   ]
  },
  {
   "cell_type": "code",
   "execution_count": 12,
   "metadata": {},
   "outputs": [
    {
     "data": {
      "text/plain": [
       "<matplotlib.axes._subplots.AxesSubplot at 0x105e1d310>"
      ]
     },
     "execution_count": 12,
     "metadata": {},
     "output_type": "execute_result"
    },
    {
     "data": {
      "image/png": "[encoded data removed]",
      "text/plain": [
       "<Figure size 432x288 with 1 Axes>"
      ]
     },
     "metadata": {
      "needs_background": "light"
     },
     "output_type": "display_data"
    }
   ],
   "source": [
    "sns.boxplot(data=train_dataset)"
   ]
  },
  {
   "cell_type": "code",
   "execution_count": 13,
   "metadata": {},
   "outputs": [
    {
     "data": {
      "text/plain": [
       "<matplotlib.axes._subplots.AxesSubplot at 0x1244c7dd0>"
      ]
     },
     "execution_count": 13,
     "metadata": {},
     "output_type": "execute_result"
    },
    {
     "data": {
      "image/png": "[encoded data removed]",
      "text/plain": [
       "<Figure size 432x288 with 1 Axes>"
      ]
     },
     "metadata": {
      "needs_background": "light"
     },
     "output_type": "display_data"
    }
   ],
   "source": [
    "train_dataset.plot.hist(bins=100)"
   ]
  },
  {
   "cell_type": "code",
   "execution_count": 14,
   "metadata": {},
   "outputs": [
    {
     "data": {
      "text/html": [
       "<div>\n",
       "<style scoped>\n",
       "    .dataframe tbody tr th:only-of-type {\n",
       "        vertical-align: middle;\n",
       "    }\n",
       "\n",
       "    .dataframe tbody tr th {\n",
       "        vertical-align: top;\n",
       "    }\n",
       "\n",
       "    .dataframe thead th {\n",
       "        text-align: right;\n",
       "    }\n",
       "</style>\n",
       "<table border=\"1\" class=\"dataframe\">\n",
       "  <thead>\n",
       "    <tr style=\"text-align: right;\">\n",
       "      <th></th>\n",
       "      <th>intercolumnar distance</th>\n",
       "      <th>upper margin</th>\n",
       "      <th>lower margin</th>\n",
       "      <th>exploitation</th>\n",
       "      <th>row number</th>\n",
       "      <th>modular ratio</th>\n",
       "      <th>interlinear spacing</th>\n",
       "      <th>weight</th>\n",
       "      <th>peak number</th>\n",
       "      <th>modular ratio/ interlinear spacing</th>\n",
       "      <th>samples</th>\n",
       "    </tr>\n",
       "  </thead>\n",
       "  <tbody>\n",
       "    <tr>\n",
       "      <th>0</th>\n",
       "      <td>0.241386</td>\n",
       "      <td>0.109171</td>\n",
       "      <td>-0.127126</td>\n",
       "      <td>0.380626</td>\n",
       "      <td>0.172340</td>\n",
       "      <td>0.314889</td>\n",
       "      <td>0.484429</td>\n",
       "      <td>0.316412</td>\n",
       "      <td>0.188810</td>\n",
       "      <td>0.134922</td>\n",
       "      <td>Marcus</td>\n",
       "    </tr>\n",
       "    <tr>\n",
       "      <th>1</th>\n",
       "      <td>0.303106</td>\n",
       "      <td>0.352558</td>\n",
       "      <td>0.082701</td>\n",
       "      <td>0.703981</td>\n",
       "      <td>0.261718</td>\n",
       "      <td>-0.391033</td>\n",
       "      <td>0.408929</td>\n",
       "      <td>1.045014</td>\n",
       "      <td>0.282354</td>\n",
       "      <td>-0.448209</td>\n",
       "      <td>Clarius</td>\n",
       "    </tr>\n",
       "    <tr>\n",
       "      <th>2</th>\n",
       "      <td>-0.116585</td>\n",
       "      <td>0.281897</td>\n",
       "      <td>0.175168</td>\n",
       "      <td>-0.152490</td>\n",
       "      <td>0.261718</td>\n",
       "      <td>-0.889332</td>\n",
       "      <td>0.371178</td>\n",
       "      <td>-0.024328</td>\n",
       "      <td>0.905984</td>\n",
       "      <td>-0.877830</td>\n",
       "      <td>Philippus</td>\n",
       "    </tr>\n",
       "    <tr>\n",
       "      <th>3</th>\n",
       "      <td>-0.326430</td>\n",
       "      <td>-0.652394</td>\n",
       "      <td>0.384996</td>\n",
       "      <td>-1.694222</td>\n",
       "      <td>-0.185173</td>\n",
       "      <td>-1.138481</td>\n",
       "      <td>-0.232828</td>\n",
       "      <td>-1.747116</td>\n",
       "      <td>-1.183175</td>\n",
       "      <td>-0.807380</td>\n",
       "      <td>Philippus</td>\n",
       "    </tr>\n",
       "    <tr>\n",
       "      <th>4</th>\n",
       "      <td>-0.437525</td>\n",
       "      <td>-0.471816</td>\n",
       "      <td>0.463236</td>\n",
       "      <td>-0.545248</td>\n",
       "      <td>0.261718</td>\n",
       "      <td>-0.972381</td>\n",
       "      <td>0.824183</td>\n",
       "      <td>-3.108388</td>\n",
       "      <td>-2.991700</td>\n",
       "      <td>-1.141030</td>\n",
       "      <td>Philippus</td>\n",
       "    </tr>\n",
       "  </tbody>\n",
       "</table>\n",
       "</div>"
      ],
      "text/plain": [
       "   intercolumnar distance  upper margin  lower margin  exploitation  \\\n",
       "0                0.241386      0.109171     -0.127126      0.380626   \n",
       "1                0.303106      0.352558      0.082701      0.703981   \n",
       "2               -0.116585      0.281897      0.175168     -0.152490   \n",
       "3               -0.326430     -0.652394      0.384996     -1.694222   \n",
       "4               -0.437525     -0.471816      0.463236     -0.545248   \n",
       "\n",
       "   row number  modular ratio  interlinear spacing    weight  peak number  \\\n",
       "0    0.172340       0.314889             0.484429  0.316412     0.188810   \n",
       "1    0.261718      -0.391033             0.408929  1.045014     0.282354   \n",
       "2    0.261718      -0.889332             0.371178 -0.024328     0.905984   \n",
       "3   -0.185173      -1.138481            -0.232828 -1.747116    -1.183175   \n",
       "4    0.261718      -0.972381             0.824183 -3.108388    -2.991700   \n",
       "\n",
       "   modular ratio/ interlinear spacing    samples  \n",
       "0                            0.134922     Marcus  \n",
       "1                           -0.448209    Clarius  \n",
       "2                           -0.877830  Philippus  \n",
       "3                           -0.807380  Philippus  \n",
       "4                           -1.141030  Philippus  "
      ]
     },
     "execution_count": 14,
     "metadata": {},
     "output_type": "execute_result"
    }
   ],
   "source": [
    "train_dataset.rename(columns={\"0\": \"intercolumnar distance\",\"1\": \"upper margin\",\"2\": \"lower margin\",\"3\": \"exploitation\",\"4\": \"row number\",\"5\": \"modular ratio\",\"6\": \"interlinear spacing\",\"7\": \"weight\",\"8\": \"peak number\",\n",
    "\"9\": \"modular ratio/ interlinear spacing\",\"10\":\"samples\"}, inplace=True)\n",
    "train_dataset.head()"
   ]
  },
  {
   "cell_type": "code",
   "execution_count": 15,
   "metadata": {},
   "outputs": [
    {
     "data": {
      "text/html": [
       "<style  type=\"text/css\" >\n",
       "    #T_bda89d54_908a_11ea_8af8_acde48001122row0_col0 {\n",
       "            background-color:  #b40426;\n",
       "            color:  #f1f1f1;\n",
       "        }    #T_bda89d54_908a_11ea_8af8_acde48001122row0_col1 {\n",
       "            background-color:  #4257c9;\n",
       "            color:  #f1f1f1;\n",
       "        }    #T_bda89d54_908a_11ea_8af8_acde48001122row0_col2 {\n",
       "            background-color:  #5977e3;\n",
       "            color:  #000000;\n",
       "        }    #T_bda89d54_908a_11ea_8af8_acde48001122row0_col3 {\n",
       "            background-color:  #3b4cc0;\n",
       "            color:  #f1f1f1;\n",
       "        }    #T_bda89d54_908a_11ea_8af8_acde48001122row0_col4 {\n",
       "            background-color:  #cfdaea;\n",
       "            color:  #000000;\n",
       "        }    #T_bda89d54_908a_11ea_8af8_acde48001122row0_col5 {\n",
       "            background-color:  #3b4cc0;\n",
       "            color:  #f1f1f1;\n",
       "        }    #T_bda89d54_908a_11ea_8af8_acde48001122row0_col6 {\n",
       "            background-color:  #3b4cc0;\n",
       "            color:  #f1f1f1;\n",
       "        }    #T_bda89d54_908a_11ea_8af8_acde48001122row0_col7 {\n",
       "            background-color:  #3e51c5;\n",
       "            color:  #f1f1f1;\n",
       "        }    #T_bda89d54_908a_11ea_8af8_acde48001122row0_col8 {\n",
       "            background-color:  #3b4cc0;\n",
       "            color:  #f1f1f1;\n",
       "        }    #T_bda89d54_908a_11ea_8af8_acde48001122row0_col9 {\n",
       "            background-color:  #4a63d3;\n",
       "            color:  #f1f1f1;\n",
       "        }    #T_bda89d54_908a_11ea_8af8_acde48001122row1_col0 {\n",
       "            background-color:  #4358cb;\n",
       "            color:  #f1f1f1;\n",
       "        }    #T_bda89d54_908a_11ea_8af8_acde48001122row1_col1 {\n",
       "            background-color:  #b40426;\n",
       "            color:  #f1f1f1;\n",
       "        }    #T_bda89d54_908a_11ea_8af8_acde48001122row1_col2 {\n",
       "            background-color:  #cdd9ec;\n",
       "            color:  #000000;\n",
       "        }    #T_bda89d54_908a_11ea_8af8_acde48001122row1_col3 {\n",
       "            background-color:  #485fd1;\n",
       "            color:  #f1f1f1;\n",
       "        }    #T_bda89d54_908a_11ea_8af8_acde48001122row1_col4 {\n",
       "            background-color:  #3e51c5;\n",
       "            color:  #f1f1f1;\n",
       "        }    #T_bda89d54_908a_11ea_8af8_acde48001122row1_col5 {\n",
       "            background-color:  #c9d7f0;\n",
       "            color:  #000000;\n",
       "        }    #T_bda89d54_908a_11ea_8af8_acde48001122row1_col6 {\n",
       "            background-color:  #f0cdbb;\n",
       "            color:  #000000;\n",
       "        }    #T_bda89d54_908a_11ea_8af8_acde48001122row1_col7 {\n",
       "            background-color:  #5b7ae5;\n",
       "            color:  #000000;\n",
       "        }    #T_bda89d54_908a_11ea_8af8_acde48001122row1_col8 {\n",
       "            background-color:  #92b4fe;\n",
       "            color:  #000000;\n",
       "        }    #T_bda89d54_908a_11ea_8af8_acde48001122row1_col9 {\n",
       "            background-color:  #455cce;\n",
       "            color:  #f1f1f1;\n",
       "        }    #T_bda89d54_908a_11ea_8af8_acde48001122row2_col0 {\n",
       "            background-color:  #5977e3;\n",
       "            color:  #000000;\n",
       "        }    #T_bda89d54_908a_11ea_8af8_acde48001122row2_col1 {\n",
       "            background-color:  #ccd9ed;\n",
       "            color:  #000000;\n",
       "        }    #T_bda89d54_908a_11ea_8af8_acde48001122row2_col2 {\n",
       "            background-color:  #b40426;\n",
       "            color:  #f1f1f1;\n",
       "        }    #T_bda89d54_908a_11ea_8af8_acde48001122row2_col3 {\n",
       "            background-color:  #7093f3;\n",
       "            color:  #000000;\n",
       "        }    #T_bda89d54_908a_11ea_8af8_acde48001122row2_col4 {\n",
       "            background-color:  #506bda;\n",
       "            color:  #000000;\n",
       "        }    #T_bda89d54_908a_11ea_8af8_acde48001122row2_col5 {\n",
       "            background-color:  #6b8df0;\n",
       "            color:  #000000;\n",
       "        }    #T_bda89d54_908a_11ea_8af8_acde48001122row2_col6 {\n",
       "            background-color:  #9fbfff;\n",
       "            color:  #000000;\n",
       "        }    #T_bda89d54_908a_11ea_8af8_acde48001122row2_col7 {\n",
       "            background-color:  #5977e3;\n",
       "            color:  #000000;\n",
       "        }    #T_bda89d54_908a_11ea_8af8_acde48001122row2_col8 {\n",
       "            background-color:  #5875e1;\n",
       "            color:  #000000;\n",
       "        }    #T_bda89d54_908a_11ea_8af8_acde48001122row2_col9 {\n",
       "            background-color:  #3b4cc0;\n",
       "            color:  #f1f1f1;\n",
       "        }    #T_bda89d54_908a_11ea_8af8_acde48001122row3_col0 {\n",
       "            background-color:  #3e51c5;\n",
       "            color:  #f1f1f1;\n",
       "        }    #T_bda89d54_908a_11ea_8af8_acde48001122row3_col1 {\n",
       "            background-color:  #4b64d5;\n",
       "            color:  #f1f1f1;\n",
       "        }    #T_bda89d54_908a_11ea_8af8_acde48001122row3_col2 {\n",
       "            background-color:  #7597f6;\n",
       "            color:  #000000;\n",
       "        }    #T_bda89d54_908a_11ea_8af8_acde48001122row3_col3 {\n",
       "            background-color:  #b40426;\n",
       "            color:  #f1f1f1;\n",
       "        }    #T_bda89d54_908a_11ea_8af8_acde48001122row3_col4 {\n",
       "            background-color:  #6a8bef;\n",
       "            color:  #000000;\n",
       "        }    #T_bda89d54_908a_11ea_8af8_acde48001122row3_col5 {\n",
       "            background-color:  #9bbcff;\n",
       "            color:  #000000;\n",
       "        }    #T_bda89d54_908a_11ea_8af8_acde48001122row3_col6 {\n",
       "            background-color:  #5875e1;\n",
       "            color:  #000000;\n",
       "        }    #T_bda89d54_908a_11ea_8af8_acde48001122row3_col7 {\n",
       "            background-color:  #c1d4f4;\n",
       "            color:  #000000;\n",
       "        }    #T_bda89d54_908a_11ea_8af8_acde48001122row3_col8 {\n",
       "            background-color:  #81a4fb;\n",
       "            color:  #000000;\n",
       "        }    #T_bda89d54_908a_11ea_8af8_acde48001122row3_col9 {\n",
       "            background-color:  #aec9fc;\n",
       "            color:  #000000;\n",
       "        }    #T_bda89d54_908a_11ea_8af8_acde48001122row4_col0 {\n",
       "            background-color:  #cdd9ec;\n",
       "            color:  #000000;\n",
       "        }    #T_bda89d54_908a_11ea_8af8_acde48001122row4_col1 {\n",
       "            background-color:  #3b4cc0;\n",
       "            color:  #f1f1f1;\n",
       "        }    #T_bda89d54_908a_11ea_8af8_acde48001122row4_col2 {\n",
       "            background-color:  #4c66d6;\n",
       "            color:  #000000;\n",
       "        }    #T_bda89d54_908a_11ea_8af8_acde48001122row4_col3 {\n",
       "            background-color:  #6282ea;\n",
       "            color:  #000000;\n",
       "        }    #T_bda89d54_908a_11ea_8af8_acde48001122row4_col4 {\n",
       "            background-color:  #b40426;\n",
       "            color:  #f1f1f1;\n",
       "        }    #T_bda89d54_908a_11ea_8af8_acde48001122row4_col5 {\n",
       "            background-color:  #5673e0;\n",
       "            color:  #000000;\n",
       "        }    #T_bda89d54_908a_11ea_8af8_acde48001122row4_col6 {\n",
       "            background-color:  #4a63d3;\n",
       "            color:  #f1f1f1;\n",
       "        }    #T_bda89d54_908a_11ea_8af8_acde48001122row4_col7 {\n",
       "            background-color:  #3b4cc0;\n",
       "            color:  #f1f1f1;\n",
       "        }    #T_bda89d54_908a_11ea_8af8_acde48001122row4_col8 {\n",
       "            background-color:  #82a6fb;\n",
       "            color:  #000000;\n",
       "        }    #T_bda89d54_908a_11ea_8af8_acde48001122row4_col9 {\n",
       "            background-color:  #7a9df8;\n",
       "            color:  #000000;\n",
       "        }    #T_bda89d54_908a_11ea_8af8_acde48001122row5_col0 {\n",
       "            background-color:  #3d50c3;\n",
       "            color:  #f1f1f1;\n",
       "        }    #T_bda89d54_908a_11ea_8af8_acde48001122row5_col1 {\n",
       "            background-color:  #cad8ef;\n",
       "            color:  #000000;\n",
       "        }    #T_bda89d54_908a_11ea_8af8_acde48001122row5_col2 {\n",
       "            background-color:  #6e90f2;\n",
       "            color:  #000000;\n",
       "        }    #T_bda89d54_908a_11ea_8af8_acde48001122row5_col3 {\n",
       "            background-color:  #9bbcff;\n",
       "            color:  #000000;\n",
       "        }    #T_bda89d54_908a_11ea_8af8_acde48001122row5_col4 {\n",
       "            background-color:  #5d7ce6;\n",
       "            color:  #000000;\n",
       "        }    #T_bda89d54_908a_11ea_8af8_acde48001122row5_col5 {\n",
       "            background-color:  #b40426;\n",
       "            color:  #f1f1f1;\n",
       "        }    #T_bda89d54_908a_11ea_8af8_acde48001122row5_col6 {\n",
       "            background-color:  #d9dce1;\n",
       "            color:  #000000;\n",
       "        }    #T_bda89d54_908a_11ea_8af8_acde48001122row5_col7 {\n",
       "            background-color:  #465ecf;\n",
       "            color:  #f1f1f1;\n",
       "        }    #T_bda89d54_908a_11ea_8af8_acde48001122row5_col8 {\n",
       "            background-color:  #6c8ff1;\n",
       "            color:  #000000;\n",
       "        }    #T_bda89d54_908a_11ea_8af8_acde48001122row5_col9 {\n",
       "            background-color:  #ef886b;\n",
       "            color:  #000000;\n",
       "        }    #T_bda89d54_908a_11ea_8af8_acde48001122row6_col0 {\n",
       "            background-color:  #4358cb;\n",
       "            color:  #f1f1f1;\n",
       "        }    #T_bda89d54_908a_11ea_8af8_acde48001122row6_col1 {\n",
       "            background-color:  #f2cbb7;\n",
       "            color:  #000000;\n",
       "        }    #T_bda89d54_908a_11ea_8af8_acde48001122row6_col2 {\n",
       "            background-color:  #a6c4fe;\n",
       "            color:  #000000;\n",
       "        }    #T_bda89d54_908a_11ea_8af8_acde48001122row6_col3 {\n",
       "            background-color:  #5d7ce6;\n",
       "            color:  #000000;\n",
       "        }    #T_bda89d54_908a_11ea_8af8_acde48001122row6_col4 {\n",
       "            background-color:  #5673e0;\n",
       "            color:  #000000;\n",
       "        }    #T_bda89d54_908a_11ea_8af8_acde48001122row6_col5 {\n",
       "            background-color:  #dbdcde;\n",
       "            color:  #000000;\n",
       "        }    #T_bda89d54_908a_11ea_8af8_acde48001122row6_col6 {\n",
       "            background-color:  #b40426;\n",
       "            color:  #f1f1f1;\n",
       "        }    #T_bda89d54_908a_11ea_8af8_acde48001122row6_col7 {\n",
       "            background-color:  #5875e1;\n",
       "            color:  #000000;\n",
       "        }    #T_bda89d54_908a_11ea_8af8_acde48001122row6_col8 {\n",
       "            background-color:  #7da0f9;\n",
       "            color:  #000000;\n",
       "        }    #T_bda89d54_908a_11ea_8af8_acde48001122row6_col9 {\n",
       "            background-color:  #adc9fd;\n",
       "            color:  #000000;\n",
       "        }    #T_bda89d54_908a_11ea_8af8_acde48001122row7_col0 {\n",
       "            background-color:  #3b4cc0;\n",
       "            color:  #f1f1f1;\n",
       "        }    #T_bda89d54_908a_11ea_8af8_acde48001122row7_col1 {\n",
       "            background-color:  #5673e0;\n",
       "            color:  #000000;\n",
       "        }    #T_bda89d54_908a_11ea_8af8_acde48001122row7_col2 {\n",
       "            background-color:  #5572df;\n",
       "            color:  #000000;\n",
       "        }    #T_bda89d54_908a_11ea_8af8_acde48001122row7_col3 {\n",
       "            background-color:  #bcd2f7;\n",
       "            color:  #000000;\n",
       "        }    #T_bda89d54_908a_11ea_8af8_acde48001122row7_col4 {\n",
       "            background-color:  #3b4cc0;\n",
       "            color:  #f1f1f1;\n",
       "        }    #T_bda89d54_908a_11ea_8af8_acde48001122row7_col5 {\n",
       "            background-color:  #3f53c6;\n",
       "            color:  #f1f1f1;\n",
       "        }    #T_bda89d54_908a_11ea_8af8_acde48001122row7_col6 {\n",
       "            background-color:  #4b64d5;\n",
       "            color:  #f1f1f1;\n",
       "        }    #T_bda89d54_908a_11ea_8af8_acde48001122row7_col7 {\n",
       "            background-color:  #b40426;\n",
       "            color:  #f1f1f1;\n",
       "        }    #T_bda89d54_908a_11ea_8af8_acde48001122row7_col8 {\n",
       "            background-color:  #d2dbe8;\n",
       "            color:  #000000;\n",
       "        }    #T_bda89d54_908a_11ea_8af8_acde48001122row7_col9 {\n",
       "            background-color:  #4f69d9;\n",
       "            color:  #000000;\n",
       "        }    #T_bda89d54_908a_11ea_8af8_acde48001122row8_col0 {\n",
       "            background-color:  #6384eb;\n",
       "            color:  #000000;\n",
       "        }    #T_bda89d54_908a_11ea_8af8_acde48001122row8_col1 {\n",
       "            background-color:  #b2ccfb;\n",
       "            color:  #000000;\n",
       "        }    #T_bda89d54_908a_11ea_8af8_acde48001122row8_col2 {\n",
       "            background-color:  #80a3fa;\n",
       "            color:  #000000;\n",
       "        }    #T_bda89d54_908a_11ea_8af8_acde48001122row8_col3 {\n",
       "            background-color:  #a2c1ff;\n",
       "            color:  #000000;\n",
       "        }    #T_bda89d54_908a_11ea_8af8_acde48001122row8_col4 {\n",
       "            background-color:  #aac7fd;\n",
       "            color:  #000000;\n",
       "        }    #T_bda89d54_908a_11ea_8af8_acde48001122row8_col5 {\n",
       "            background-color:  #90b2fe;\n",
       "            color:  #000000;\n",
       "        }    #T_bda89d54_908a_11ea_8af8_acde48001122row8_col6 {\n",
       "            background-color:  #9abbff;\n",
       "            color:  #000000;\n",
       "        }    #T_bda89d54_908a_11ea_8af8_acde48001122row8_col7 {\n",
       "            background-color:  #e6d7cf;\n",
       "            color:  #000000;\n",
       "        }    #T_bda89d54_908a_11ea_8af8_acde48001122row8_col8 {\n",
       "            background-color:  #b40426;\n",
       "            color:  #f1f1f1;\n",
       "        }    #T_bda89d54_908a_11ea_8af8_acde48001122row8_col9 {\n",
       "            background-color:  #8caffe;\n",
       "            color:  #000000;\n",
       "        }    #T_bda89d54_908a_11ea_8af8_acde48001122row9_col0 {\n",
       "            background-color:  #4a63d3;\n",
       "            color:  #f1f1f1;\n",
       "        }    #T_bda89d54_908a_11ea_8af8_acde48001122row9_col1 {\n",
       "            background-color:  #445acc;\n",
       "            color:  #f1f1f1;\n",
       "        }    #T_bda89d54_908a_11ea_8af8_acde48001122row9_col2 {\n",
       "            background-color:  #3b4cc0;\n",
       "            color:  #f1f1f1;\n",
       "        }    #T_bda89d54_908a_11ea_8af8_acde48001122row9_col3 {\n",
       "            background-color:  #abc8fd;\n",
       "            color:  #000000;\n",
       "        }    #T_bda89d54_908a_11ea_8af8_acde48001122row9_col4 {\n",
       "            background-color:  #7ea1fa;\n",
       "            color:  #000000;\n",
       "        }    #T_bda89d54_908a_11ea_8af8_acde48001122row9_col5 {\n",
       "            background-color:  #f08a6c;\n",
       "            color:  #000000;\n",
       "        }    #T_bda89d54_908a_11ea_8af8_acde48001122row9_col6 {\n",
       "            background-color:  #a6c4fe;\n",
       "            color:  #000000;\n",
       "        }    #T_bda89d54_908a_11ea_8af8_acde48001122row9_col7 {\n",
       "            background-color:  #536edd;\n",
       "            color:  #000000;\n",
       "        }    #T_bda89d54_908a_11ea_8af8_acde48001122row9_col8 {\n",
       "            background-color:  #6485ec;\n",
       "            color:  #000000;\n",
       "        }    #T_bda89d54_908a_11ea_8af8_acde48001122row9_col9 {\n",
       "            background-color:  #b40426;\n",
       "            color:  #f1f1f1;\n",
       "        }</style><table id=\"T_bda89d54_908a_11ea_8af8_acde48001122\" ><thead>    <tr>        <th class=\"blank level0\" ></th>        <th class=\"col_heading level0 col0\" >intercolumnar distance</th>        <th class=\"col_heading level0 col1\" >upper margin</th>        <th class=\"col_heading level0 col2\" >lower margin</th>        <th class=\"col_heading level0 col3\" >exploitation</th>        <th class=\"col_heading level0 col4\" >row number</th>        <th class=\"col_heading level0 col5\" >modular ratio</th>        <th class=\"col_heading level0 col6\" >interlinear spacing</th>        <th class=\"col_heading level0 col7\" >weight</th>        <th class=\"col_heading level0 col8\" >peak number</th>        <th class=\"col_heading level0 col9\" >modular ratio/ interlinear spacing</th>    </tr></thead><tbody>\n",
       "                <tr>\n",
       "                        <th id=\"T_bda89d54_908a_11ea_8af8_acde48001122level0_row0\" class=\"row_heading level0 row0\" >intercolumnar distance</th>\n",
       "                        <td id=\"T_bda89d54_908a_11ea_8af8_acde48001122row0_col0\" class=\"data row0 col0\" >1.000000</td>\n",
       "                        <td id=\"T_bda89d54_908a_11ea_8af8_acde48001122row0_col1\" class=\"data row0 col1\" >-0.034603</td>\n",
       "                        <td id=\"T_bda89d54_908a_11ea_8af8_acde48001122row0_col2\" class=\"data row0 col2\" >0.040097</td>\n",
       "                        <td id=\"T_bda89d54_908a_11ea_8af8_acde48001122row0_col3\" class=\"data row0 col3\" >-0.050536</td>\n",
       "                        <td id=\"T_bda89d54_908a_11ea_8af8_acde48001122row0_col4\" class=\"data row0 col4\" >0.406481</td>\n",
       "                        <td id=\"T_bda89d54_908a_11ea_8af8_acde48001122row0_col5\" class=\"data row0 col5\" >-0.051888</td>\n",
       "                        <td id=\"T_bda89d54_908a_11ea_8af8_acde48001122row0_col6\" class=\"data row0 col6\" >-0.034114</td>\n",
       "                        <td id=\"T_bda89d54_908a_11ea_8af8_acde48001122row0_col7\" class=\"data row0 col7\" >-0.064320</td>\n",
       "                        <td id=\"T_bda89d54_908a_11ea_8af8_acde48001122row0_col8\" class=\"data row0 col8\" >0.074687</td>\n",
       "                        <td id=\"T_bda89d54_908a_11ea_8af8_acde48001122row0_col9\" class=\"data row0 col9\" >-0.006808</td>\n",
       "            </tr>\n",
       "            <tr>\n",
       "                        <th id=\"T_bda89d54_908a_11ea_8af8_acde48001122level0_row1\" class=\"row_heading level0 row1\" >upper margin</th>\n",
       "                        <td id=\"T_bda89d54_908a_11ea_8af8_acde48001122row1_col0\" class=\"data row1 col0\" >-0.034603</td>\n",
       "                        <td id=\"T_bda89d54_908a_11ea_8af8_acde48001122row1_col1\" class=\"data row1 col1\" >1.000000</td>\n",
       "                        <td id=\"T_bda89d54_908a_11ea_8af8_acde48001122row1_col2\" class=\"data row1 col2\" >0.405835</td>\n",
       "                        <td id=\"T_bda89d54_908a_11ea_8af8_acde48001122row1_col3\" class=\"data row1 col3\" >-0.003220</td>\n",
       "                        <td id=\"T_bda89d54_908a_11ea_8af8_acde48001122row1_col4\" class=\"data row1 col4\" >-0.063053</td>\n",
       "                        <td id=\"T_bda89d54_908a_11ea_8af8_acde48001122row1_col5\" class=\"data row1 col5\" >0.396154</td>\n",
       "                        <td id=\"T_bda89d54_908a_11ea_8af8_acde48001122row1_col6\" class=\"data row1 col6\" >0.575370</td>\n",
       "                        <td id=\"T_bda89d54_908a_11ea_8af8_acde48001122row1_col7\" class=\"data row1 col7\" >0.036323</td>\n",
       "                        <td id=\"T_bda89d54_908a_11ea_8af8_acde48001122row1_col8\" class=\"data row1 col8\" >0.318548</td>\n",
       "                        <td id=\"T_bda89d54_908a_11ea_8af8_acde48001122row1_col9\" class=\"data row1 col9\" >-0.026659</td>\n",
       "            </tr>\n",
       "            <tr>\n",
       "                        <th id=\"T_bda89d54_908a_11ea_8af8_acde48001122level0_row2\" class=\"row_heading level0 row2\" >lower margin</th>\n",
       "                        <td id=\"T_bda89d54_908a_11ea_8af8_acde48001122row2_col0\" class=\"data row2 col0\" >0.040097</td>\n",
       "                        <td id=\"T_bda89d54_908a_11ea_8af8_acde48001122row2_col1\" class=\"data row2 col1\" >0.405835</td>\n",
       "                        <td id=\"T_bda89d54_908a_11ea_8af8_acde48001122row2_col2\" class=\"data row2 col2\" >1.000000</td>\n",
       "                        <td id=\"T_bda89d54_908a_11ea_8af8_acde48001122row2_col3\" class=\"data row2 col3\" >0.128052</td>\n",
       "                        <td id=\"T_bda89d54_908a_11ea_8af8_acde48001122row2_col4\" class=\"data row2 col4\" >0.000590</td>\n",
       "                        <td id=\"T_bda89d54_908a_11ea_8af8_acde48001122row2_col5\" class=\"data row2 col5\" >0.108497</td>\n",
       "                        <td id=\"T_bda89d54_908a_11ea_8af8_acde48001122row2_col6\" class=\"data row2 col6\" >0.279027</td>\n",
       "                        <td id=\"T_bda89d54_908a_11ea_8af8_acde48001122row2_col7\" class=\"data row2 col7\" >0.030528</td>\n",
       "                        <td id=\"T_bda89d54_908a_11ea_8af8_acde48001122row2_col8\" class=\"data row2 col8\" >0.162520</td>\n",
       "                        <td id=\"T_bda89d54_908a_11ea_8af8_acde48001122row2_col9\" class=\"data row2 col9\" >-0.064532</td>\n",
       "            </tr>\n",
       "            <tr>\n",
       "                        <th id=\"T_bda89d54_908a_11ea_8af8_acde48001122level0_row3\" class=\"row_heading level0 row3\" >exploitation</th>\n",
       "                        <td id=\"T_bda89d54_908a_11ea_8af8_acde48001122row3_col0\" class=\"data row3 col0\" >-0.050536</td>\n",
       "                        <td id=\"T_bda89d54_908a_11ea_8af8_acde48001122row3_col1\" class=\"data row3 col1\" >-0.003220</td>\n",
       "                        <td id=\"T_bda89d54_908a_11ea_8af8_acde48001122row3_col2\" class=\"data row3 col2\" >0.128052</td>\n",
       "                        <td id=\"T_bda89d54_908a_11ea_8af8_acde48001122row3_col3\" class=\"data row3 col3\" >1.000000</td>\n",
       "                        <td id=\"T_bda89d54_908a_11ea_8af8_acde48001122row3_col4\" class=\"data row3 col4\" >0.084093</td>\n",
       "                        <td id=\"T_bda89d54_908a_11ea_8af8_acde48001122row3_col5\" class=\"data row3 col5\" >0.254600</td>\n",
       "                        <td id=\"T_bda89d54_908a_11ea_8af8_acde48001122row3_col6\" class=\"data row3 col6\" >0.066038</td>\n",
       "                        <td id=\"T_bda89d54_908a_11ea_8af8_acde48001122row3_col7\" class=\"data row3 col7\" >0.357121</td>\n",
       "                        <td id=\"T_bda89d54_908a_11ea_8af8_acde48001122row3_col8\" class=\"data row3 col8\" >0.274736</td>\n",
       "                        <td id=\"T_bda89d54_908a_11ea_8af8_acde48001122row3_col9\" class=\"data row3 col9\" >0.304903</td>\n",
       "            </tr>\n",
       "            <tr>\n",
       "                        <th id=\"T_bda89d54_908a_11ea_8af8_acde48001122level0_row4\" class=\"row_heading level0 row4\" >row number</th>\n",
       "                        <td id=\"T_bda89d54_908a_11ea_8af8_acde48001122row4_col0\" class=\"data row4 col0\" >0.406481</td>\n",
       "                        <td id=\"T_bda89d54_908a_11ea_8af8_acde48001122row4_col1\" class=\"data row4 col1\" >-0.063053</td>\n",
       "                        <td id=\"T_bda89d54_908a_11ea_8af8_acde48001122row4_col2\" class=\"data row4 col2\" >0.000590</td>\n",
       "                        <td id=\"T_bda89d54_908a_11ea_8af8_acde48001122row4_col3\" class=\"data row4 col3\" >0.084093</td>\n",
       "                        <td id=\"T_bda89d54_908a_11ea_8af8_acde48001122row4_col4\" class=\"data row4 col4\" >1.000000</td>\n",
       "                        <td id=\"T_bda89d54_908a_11ea_8af8_acde48001122row4_col5\" class=\"data row4 col5\" >0.042959</td>\n",
       "                        <td id=\"T_bda89d54_908a_11ea_8af8_acde48001122row4_col6\" class=\"data row4 col6\" >0.019530</td>\n",
       "                        <td id=\"T_bda89d54_908a_11ea_8af8_acde48001122row4_col7\" class=\"data row4 col7\" >-0.078455</td>\n",
       "                        <td id=\"T_bda89d54_908a_11ea_8af8_acde48001122row4_col8\" class=\"data row4 col8\" >0.279677</td>\n",
       "                        <td id=\"T_bda89d54_908a_11ea_8af8_acde48001122row4_col9\" class=\"data row4 col9\" >0.145087</td>\n",
       "            </tr>\n",
       "            <tr>\n",
       "                        <th id=\"T_bda89d54_908a_11ea_8af8_acde48001122level0_row5\" class=\"row_heading level0 row5\" >modular ratio</th>\n",
       "                        <td id=\"T_bda89d54_908a_11ea_8af8_acde48001122row5_col0\" class=\"data row5 col0\" >-0.051888</td>\n",
       "                        <td id=\"T_bda89d54_908a_11ea_8af8_acde48001122row5_col1\" class=\"data row5 col1\" >0.396154</td>\n",
       "                        <td id=\"T_bda89d54_908a_11ea_8af8_acde48001122row5_col2\" class=\"data row5 col2\" >0.108497</td>\n",
       "                        <td id=\"T_bda89d54_908a_11ea_8af8_acde48001122row5_col3\" class=\"data row5 col3\" >0.254600</td>\n",
       "                        <td id=\"T_bda89d54_908a_11ea_8af8_acde48001122row5_col4\" class=\"data row5 col4\" >0.042959</td>\n",
       "                        <td id=\"T_bda89d54_908a_11ea_8af8_acde48001122row5_col5\" class=\"data row5 col5\" >1.000000</td>\n",
       "                        <td id=\"T_bda89d54_908a_11ea_8af8_acde48001122row5_col6\" class=\"data row5 col6\" >0.469109</td>\n",
       "                        <td id=\"T_bda89d54_908a_11ea_8af8_acde48001122row5_col7\" class=\"data row5 col7\" >-0.035121</td>\n",
       "                        <td id=\"T_bda89d54_908a_11ea_8af8_acde48001122row5_col8\" class=\"data row5 col8\" >0.220883</td>\n",
       "                        <td id=\"T_bda89d54_908a_11ea_8af8_acde48001122row5_col9\" class=\"data row5 col9\" >0.776504</td>\n",
       "            </tr>\n",
       "            <tr>\n",
       "                        <th id=\"T_bda89d54_908a_11ea_8af8_acde48001122level0_row6\" class=\"row_heading level0 row6\" >interlinear spacing</th>\n",
       "                        <td id=\"T_bda89d54_908a_11ea_8af8_acde48001122row6_col0\" class=\"data row6 col0\" >-0.034114</td>\n",
       "                        <td id=\"T_bda89d54_908a_11ea_8af8_acde48001122row6_col1\" class=\"data row6 col1\" >0.575370</td>\n",
       "                        <td id=\"T_bda89d54_908a_11ea_8af8_acde48001122row6_col2\" class=\"data row6 col2\" >0.279027</td>\n",
       "                        <td id=\"T_bda89d54_908a_11ea_8af8_acde48001122row6_col3\" class=\"data row6 col3\" >0.066038</td>\n",
       "                        <td id=\"T_bda89d54_908a_11ea_8af8_acde48001122row6_col4\" class=\"data row6 col4\" >0.019530</td>\n",
       "                        <td id=\"T_bda89d54_908a_11ea_8af8_acde48001122row6_col5\" class=\"data row6 col5\" >0.469109</td>\n",
       "                        <td id=\"T_bda89d54_908a_11ea_8af8_acde48001122row6_col6\" class=\"data row6 col6\" >1.000000</td>\n",
       "                        <td id=\"T_bda89d54_908a_11ea_8af8_acde48001122row6_col7\" class=\"data row6 col7\" >0.024779</td>\n",
       "                        <td id=\"T_bda89d54_908a_11ea_8af8_acde48001122row6_col8\" class=\"data row6 col8\" >0.264194</td>\n",
       "                        <td id=\"T_bda89d54_908a_11ea_8af8_acde48001122row6_col9\" class=\"data row6 col9\" >0.299467</td>\n",
       "            </tr>\n",
       "            <tr>\n",
       "                        <th id=\"T_bda89d54_908a_11ea_8af8_acde48001122level0_row7\" class=\"row_heading level0 row7\" >weight</th>\n",
       "                        <td id=\"T_bda89d54_908a_11ea_8af8_acde48001122row7_col0\" class=\"data row7 col0\" >-0.064320</td>\n",
       "                        <td id=\"T_bda89d54_908a_11ea_8af8_acde48001122row7_col1\" class=\"data row7 col1\" >0.036323</td>\n",
       "                        <td id=\"T_bda89d54_908a_11ea_8af8_acde48001122row7_col2\" class=\"data row7 col2\" >0.030528</td>\n",
       "                        <td id=\"T_bda89d54_908a_11ea_8af8_acde48001122row7_col3\" class=\"data row7 col3\" >0.357121</td>\n",
       "                        <td id=\"T_bda89d54_908a_11ea_8af8_acde48001122row7_col4\" class=\"data row7 col4\" >-0.078455</td>\n",
       "                        <td id=\"T_bda89d54_908a_11ea_8af8_acde48001122row7_col5\" class=\"data row7 col5\" >-0.035121</td>\n",
       "                        <td id=\"T_bda89d54_908a_11ea_8af8_acde48001122row7_col6\" class=\"data row7 col6\" >0.024779</td>\n",
       "                        <td id=\"T_bda89d54_908a_11ea_8af8_acde48001122row7_col7\" class=\"data row7 col7\" >1.000000</td>\n",
       "                        <td id=\"T_bda89d54_908a_11ea_8af8_acde48001122row7_col8\" class=\"data row7 col8\" >0.500367</td>\n",
       "                        <td id=\"T_bda89d54_908a_11ea_8af8_acde48001122row7_col9\" class=\"data row7 col9\" >0.006262</td>\n",
       "            </tr>\n",
       "            <tr>\n",
       "                        <th id=\"T_bda89d54_908a_11ea_8af8_acde48001122level0_row8\" class=\"row_heading level0 row8\" >peak number</th>\n",
       "                        <td id=\"T_bda89d54_908a_11ea_8af8_acde48001122row8_col0\" class=\"data row8 col0\" >0.074687</td>\n",
       "                        <td id=\"T_bda89d54_908a_11ea_8af8_acde48001122row8_col1\" class=\"data row8 col1\" >0.318548</td>\n",
       "                        <td id=\"T_bda89d54_908a_11ea_8af8_acde48001122row8_col2\" class=\"data row8 col2\" >0.162520</td>\n",
       "                        <td id=\"T_bda89d54_908a_11ea_8af8_acde48001122row8_col3\" class=\"data row8 col3\" >0.274736</td>\n",
       "                        <td id=\"T_bda89d54_908a_11ea_8af8_acde48001122row8_col4\" class=\"data row8 col4\" >0.279677</td>\n",
       "                        <td id=\"T_bda89d54_908a_11ea_8af8_acde48001122row8_col5\" class=\"data row8 col5\" >0.220883</td>\n",
       "                        <td id=\"T_bda89d54_908a_11ea_8af8_acde48001122row8_col6\" class=\"data row8 col6\" >0.264194</td>\n",
       "                        <td id=\"T_bda89d54_908a_11ea_8af8_acde48001122row8_col7\" class=\"data row8 col7\" >0.500367</td>\n",
       "                        <td id=\"T_bda89d54_908a_11ea_8af8_acde48001122row8_col8\" class=\"data row8 col8\" >1.000000</td>\n",
       "                        <td id=\"T_bda89d54_908a_11ea_8af8_acde48001122row8_col9\" class=\"data row8 col9\" >0.200680</td>\n",
       "            </tr>\n",
       "            <tr>\n",
       "                        <th id=\"T_bda89d54_908a_11ea_8af8_acde48001122level0_row9\" class=\"row_heading level0 row9\" >modular ratio/ interlinear spacing</th>\n",
       "                        <td id=\"T_bda89d54_908a_11ea_8af8_acde48001122row9_col0\" class=\"data row9 col0\" >-0.006808</td>\n",
       "                        <td id=\"T_bda89d54_908a_11ea_8af8_acde48001122row9_col1\" class=\"data row9 col1\" >-0.026659</td>\n",
       "                        <td id=\"T_bda89d54_908a_11ea_8af8_acde48001122row9_col2\" class=\"data row9 col2\" >-0.064532</td>\n",
       "                        <td id=\"T_bda89d54_908a_11ea_8af8_acde48001122row9_col3\" class=\"data row9 col3\" >0.304903</td>\n",
       "                        <td id=\"T_bda89d54_908a_11ea_8af8_acde48001122row9_col4\" class=\"data row9 col4\" >0.145087</td>\n",
       "                        <td id=\"T_bda89d54_908a_11ea_8af8_acde48001122row9_col5\" class=\"data row9 col5\" >0.776504</td>\n",
       "                        <td id=\"T_bda89d54_908a_11ea_8af8_acde48001122row9_col6\" class=\"data row9 col6\" >0.299467</td>\n",
       "                        <td id=\"T_bda89d54_908a_11ea_8af8_acde48001122row9_col7\" class=\"data row9 col7\" >0.006262</td>\n",
       "                        <td id=\"T_bda89d54_908a_11ea_8af8_acde48001122row9_col8\" class=\"data row9 col8\" >0.200680</td>\n",
       "                        <td id=\"T_bda89d54_908a_11ea_8af8_acde48001122row9_col9\" class=\"data row9 col9\" >1.000000</td>\n",
       "            </tr>\n",
       "    </tbody></table>"
      ],
      "text/plain": [
       "<pandas.io.formats.style.Styler at 0x1249d3250>"
      ]
     },
     "execution_count": 15,
     "metadata": {},
     "output_type": "execute_result"
    }
   ],
   "source": [
    "corr = train_dataset.corr()\n",
    "corr.style.background_gradient(cmap='coolwarm')"
   ]
  },
  {
   "cell_type": "code",
   "execution_count": 16,
   "metadata": {},
   "outputs": [
    {
     "data": {
      "text/plain": [
       "<matplotlib.axes._subplots.AxesSubplot at 0x1277594d0>"
      ]
     },
     "execution_count": 16,
     "metadata": {},
     "output_type": "execute_result"
    },
    {
     "data": {
      "image/png": "[encoded data removed]",
      "text/plain": [
       "<Figure size 432x288 with 2 Axes>"
      ]
     },
     "metadata": {
      "needs_background": "light"
     },
     "output_type": "display_data"
    }
   ],
   "source": [
    "sns.heatmap(corr, annot=True)"
   ]
  },
  {
   "cell_type": "code",
   "execution_count": 17,
   "metadata": {},
   "outputs": [
    {
     "data": {
      "text/plain": [
       "['Marcus',\n",
       " 'Clarius',\n",
       " 'Philippus',\n",
       " 'Mongucus',\n",
       " 'Ubuntius',\n",
       " 'Coronavirucus',\n",
       " 'Esequlius',\n",
       " 'Paithonius']"
      ]
     },
     "execution_count": 17,
     "metadata": {},
     "output_type": "execute_result"
    }
   ],
   "source": [
    "samples=list(train_dataset[\"samples\"].unique())# categorical data\n",
    "samples"
   ]
  },
  {
   "cell_type": "code",
   "execution_count": 18,
   "metadata": {},
   "outputs": [],
   "source": [
    "#train_dataset[\"samples\"]=pd.Categorical(train_dataset[\"samples\"],ordered=True,categories =samples)\n",
    "#train_dataset[\"samples_category\"]=train_dataset[\"samples\"].cat.codes\n",
    "#train_dataset[\"samples_category\"].value_counts()"
   ]
  },
  {
   "cell_type": "markdown",
   "metadata": {},
   "source": [
    "# Challenge - train your models, make the best prediction"
   ]
  },
  {
   "cell_type": "code",
   "execution_count": 20,
   "metadata": {},
   "outputs": [
    {
     "data": {
      "text/html": [
       "<div>\n",
       "<style scoped>\n",
       "    .dataframe tbody tr th:only-of-type {\n",
       "        vertical-align: middle;\n",
       "    }\n",
       "\n",
       "    .dataframe tbody tr th {\n",
       "        vertical-align: top;\n",
       "    }\n",
       "\n",
       "    .dataframe thead th {\n",
       "        text-align: right;\n",
       "    }\n",
       "</style>\n",
       "<table border=\"1\" class=\"dataframe\">\n",
       "  <thead>\n",
       "    <tr style=\"text-align: right;\">\n",
       "      <th></th>\n",
       "      <th>intercolumnar distance</th>\n",
       "      <th>upper margin</th>\n",
       "      <th>lower margin</th>\n",
       "      <th>exploitation</th>\n",
       "      <th>row number</th>\n",
       "      <th>modular ratio</th>\n",
       "      <th>interlinear spacing</th>\n",
       "      <th>weight</th>\n",
       "      <th>peak number</th>\n",
       "      <th>modular ratio/ interlinear spacing</th>\n",
       "    </tr>\n",
       "  </thead>\n",
       "  <tbody>\n",
       "    <tr>\n",
       "      <th>0</th>\n",
       "      <td>0.241386</td>\n",
       "      <td>0.109171</td>\n",
       "      <td>-0.127126</td>\n",
       "      <td>0.380626</td>\n",
       "      <td>0.172340</td>\n",
       "      <td>0.314889</td>\n",
       "      <td>0.484429</td>\n",
       "      <td>0.316412</td>\n",
       "      <td>0.188810</td>\n",
       "      <td>0.134922</td>\n",
       "    </tr>\n",
       "    <tr>\n",
       "      <th>1</th>\n",
       "      <td>0.303106</td>\n",
       "      <td>0.352558</td>\n",
       "      <td>0.082701</td>\n",
       "      <td>0.703981</td>\n",
       "      <td>0.261718</td>\n",
       "      <td>-0.391033</td>\n",
       "      <td>0.408929</td>\n",
       "      <td>1.045014</td>\n",
       "      <td>0.282354</td>\n",
       "      <td>-0.448209</td>\n",
       "    </tr>\n",
       "    <tr>\n",
       "      <th>2</th>\n",
       "      <td>-0.116585</td>\n",
       "      <td>0.281897</td>\n",
       "      <td>0.175168</td>\n",
       "      <td>-0.152490</td>\n",
       "      <td>0.261718</td>\n",
       "      <td>-0.889332</td>\n",
       "      <td>0.371178</td>\n",
       "      <td>-0.024328</td>\n",
       "      <td>0.905984</td>\n",
       "      <td>-0.877830</td>\n",
       "    </tr>\n",
       "    <tr>\n",
       "      <th>3</th>\n",
       "      <td>-0.326430</td>\n",
       "      <td>-0.652394</td>\n",
       "      <td>0.384996</td>\n",
       "      <td>-1.694222</td>\n",
       "      <td>-0.185173</td>\n",
       "      <td>-1.138481</td>\n",
       "      <td>-0.232828</td>\n",
       "      <td>-1.747116</td>\n",
       "      <td>-1.183175</td>\n",
       "      <td>-0.807380</td>\n",
       "    </tr>\n",
       "    <tr>\n",
       "      <th>4</th>\n",
       "      <td>-0.437525</td>\n",
       "      <td>-0.471816</td>\n",
       "      <td>0.463236</td>\n",
       "      <td>-0.545248</td>\n",
       "      <td>0.261718</td>\n",
       "      <td>-0.972381</td>\n",
       "      <td>0.824183</td>\n",
       "      <td>-3.108388</td>\n",
       "      <td>-2.991700</td>\n",
       "      <td>-1.141030</td>\n",
       "    </tr>\n",
       "  </tbody>\n",
       "</table>\n",
       "</div>"
      ],
      "text/plain": [
       "   intercolumnar distance  upper margin  lower margin  exploitation  \\\n",
       "0                0.241386      0.109171     -0.127126      0.380626   \n",
       "1                0.303106      0.352558      0.082701      0.703981   \n",
       "2               -0.116585      0.281897      0.175168     -0.152490   \n",
       "3               -0.326430     -0.652394      0.384996     -1.694222   \n",
       "4               -0.437525     -0.471816      0.463236     -0.545248   \n",
       "\n",
       "   row number  modular ratio  interlinear spacing    weight  peak number  \\\n",
       "0    0.172340       0.314889             0.484429  0.316412     0.188810   \n",
       "1    0.261718      -0.391033             0.408929  1.045014     0.282354   \n",
       "2    0.261718      -0.889332             0.371178 -0.024328     0.905984   \n",
       "3   -0.185173      -1.138481            -0.232828 -1.747116    -1.183175   \n",
       "4    0.261718      -0.972381             0.824183 -3.108388    -2.991700   \n",
       "\n",
       "   modular ratio/ interlinear spacing  \n",
       "0                            0.134922  \n",
       "1                           -0.448209  \n",
       "2                           -0.877830  \n",
       "3                           -0.807380  \n",
       "4                           -1.141030  "
      ]
     },
     "metadata": {},
     "output_type": "display_data"
    },
    {
     "data": {
      "text/plain": [
       "0       Marcus\n",
       "1      Clarius\n",
       "2    Philippus\n",
       "3    Philippus\n",
       "4    Philippus\n",
       "Name: samples, dtype: object"
      ]
     },
     "metadata": {},
     "output_type": "display_data"
    }
   ],
   "source": [
    "# Asignamos las features a la X \n",
    "X=train_dataset.drop(columns=\"samples\")\n",
    "y=train_dataset[\"samples\"]\n",
    "display(X.head(),y.head())"
   ]
  },
  {
   "cell_type": "code",
   "execution_count": 21,
   "metadata": {},
   "outputs": [
    {
     "name": "stdout",
     "output_type": "stream",
     "text": [
      "(9613, 10) (2404, 10)\n"
     ]
    }
   ],
   "source": [
    "X_train, X_test, y_train, y_test = train_test_split(X, y, test_size=0.2)\n",
    "print(X_train.shape, X_test.shape)"
   ]
  },
  {
   "cell_type": "code",
   "execution_count": 22,
   "metadata": {},
   "outputs": [
    {
     "name": "stdout",
     "output_type": "stream",
     "text": [
      "               precision    recall  f1-score   support\n",
      "\n",
      "      Clarius       0.40      0.11      0.18       460\n",
      "Coronavirucus       0.90      0.90      0.90       215\n",
      "    Esequlius       0.00      0.00      0.00        78\n",
      "       Marcus       0.55      0.92      0.69      1039\n",
      "     Mongucus       0.75      0.68      0.71       110\n",
      "   Paithonius       0.41      0.14      0.21       120\n",
      "    Philippus       0.50      0.29      0.37       277\n",
      "     Ubuntius       0.00      0.00      0.00       105\n",
      "\n",
      "     accuracy                           0.57      2404\n",
      "    macro avg       0.44      0.38      0.38      2404\n",
      " weighted avg       0.51      0.57      0.50      2404\n",
      "\n"
     ]
    },
    {
     "name": "stderr",
     "output_type": "stream",
     "text": [
      "/usr/local/lib/python3.7/site-packages/sklearn/linear_model/_logistic.py:940: ConvergenceWarning: lbfgs failed to converge (status=1):\n",
      "STOP: TOTAL NO. of ITERATIONS REACHED LIMIT.\n",
      "\n",
      "Increase the number of iterations (max_iter) or scale the data as shown in:\n",
      "    https://scikit-learn.org/stable/modules/preprocessing.html\n",
      "Please also refer to the documentation for alternative solver options:\n",
      "    https://scikit-learn.org/stable/modules/linear_model.html#logistic-regression\n",
      "  extra_warning_msg=_LOGISTIC_SOLVER_CONVERGENCE_MSG)\n",
      "/usr/local/lib/python3.7/site-packages/sklearn/metrics/_classification.py:1272: UndefinedMetricWarning: Precision and F-score are ill-defined and being set to 0.0 in labels with no predicted samples. Use `zero_division` parameter to control this behavior.\n",
      "  _warn_prf(average, modifier, msg_start, len(result))\n"
     ]
    }
   ],
   "source": [
    "# Model 1\n",
    "logistic_model=LogisticRegression(solver=\"lbfgs\").fit(X_train,y_train)\n",
    "y_pred = logistic_model.predict(X_test)\n",
    "print(classification_report(y_test,y_pred))"
   ]
  },
  {
   "cell_type": "code",
   "execution_count": 25,
   "metadata": {},
   "outputs": [
    {
     "name": "stdout",
     "output_type": "stream",
     "text": [
      "               precision    recall  f1-score   support\n",
      "\n",
      "      Clarius       0.90      0.82      0.86       460\n",
      "Coronavirucus       1.00      1.00      1.00       215\n",
      "    Esequlius       1.00      0.99      0.99        78\n",
      "       Marcus       0.91      0.96      0.93      1039\n",
      "     Mongucus       0.97      0.96      0.97       110\n",
      "   Paithonius       0.97      0.95      0.96       120\n",
      "    Philippus       0.98      0.97      0.97       277\n",
      "     Ubuntius       1.00      0.94      0.97       105\n",
      "\n",
      "     accuracy                           0.94      2404\n",
      "    macro avg       0.97      0.95      0.96      2404\n",
      " weighted avg       0.94      0.94      0.94      2404\n",
      "\n"
     ]
    },
    {
     "data": {
      "text/plain": [
       "<matplotlib.axes._subplots.AxesSubplot at 0x1245bc810>"
      ]
     },
     "execution_count": 25,
     "metadata": {},
     "output_type": "execute_result"
    },
    {
     "data": {
      "image/png": "[encoded data removed]",
      "text/plain": [
       "<Figure size 432x288 with 2 Axes>"
      ]
     },
     "metadata": {
      "needs_background": "light"
     },
     "output_type": "display_data"
    }
   ],
   "source": [
    "#Model 2:\n",
    "XGBC_model=GradientBoostingClassifier().fit(X_train,y_train)\n",
    "y_pred = XGBC_model.predict(X_test)\n",
    "print(classification_report(y_test,y_pred))\n",
    "cm = confusion_matrix(y_test,y_pred)\n",
    "sns.heatmap(cm,annot=True)"
   ]
  },
  {
   "cell_type": "code",
   "execution_count": 26,
   "metadata": {},
   "outputs": [
    {
     "name": "stdout",
     "output_type": "stream",
     "text": [
      "               precision    recall  f1-score   support\n",
      "\n",
      "      Clarius       0.69      0.52      0.60       460\n",
      "Coronavirucus       1.00      0.96      0.98       215\n",
      "    Esequlius       0.90      0.46      0.61        78\n",
      "       Marcus       0.73      0.90      0.81      1039\n",
      "     Mongucus       0.97      0.88      0.92       110\n",
      "   Paithonius       0.91      0.50      0.65       120\n",
      "    Philippus       0.77      0.77      0.77       277\n",
      "     Ubuntius       0.74      0.51      0.61       105\n",
      "\n",
      "     accuracy                           0.77      2404\n",
      "    macro avg       0.84      0.69      0.74      2404\n",
      " weighted avg       0.78      0.77      0.76      2404\n",
      "\n"
     ]
    },
    {
     "data": {
      "text/plain": [
       "<matplotlib.axes._subplots.AxesSubplot at 0x128081790>"
      ]
     },
     "execution_count": 26,
     "metadata": {},
     "output_type": "execute_result"
    },
    {
     "data": {
      "image/png": "[encoded data removed]",
      "text/plain": [
       "<Figure size 432x288 with 2 Axes>"
      ]
     },
     "metadata": {
      "needs_background": "light"
     },
     "output_type": "display_data"
    }
   ],
   "source": [
    "#Model 3:\n",
    "SVC_model=svm.SVC(gamma=0.25).fit(X_train,y_train)\n",
    "y_pred = SVC_model.predict(X_test)\n",
    "print(classification_report(y_test,y_pred))\n",
    "cm = confusion_matrix(y_test,y_pred)\n",
    "sns.heatmap(cm,annot=True)"
   ]
  },
  {
   "cell_type": "code",
   "execution_count": 27,
   "metadata": {},
   "outputs": [
    {
     "name": "stdout",
     "output_type": "stream",
     "text": [
      "               precision    recall  f1-score   support\n",
      "\n",
      "      Clarius       0.94      0.96      0.95       460\n",
      "Coronavirucus       0.98      1.00      0.99       215\n",
      "    Esequlius       0.96      0.95      0.95        78\n",
      "       Marcus       0.97      0.96      0.97      1039\n",
      "     Mongucus       0.92      0.92      0.92       110\n",
      "   Paithonius       0.96      0.95      0.95       120\n",
      "    Philippus       0.93      0.95      0.94       277\n",
      "     Ubuntius       0.93      0.92      0.93       105\n",
      "\n",
      "     accuracy                           0.96      2404\n",
      "    macro avg       0.95      0.95      0.95      2404\n",
      " weighted avg       0.96      0.96      0.96      2404\n",
      "\n"
     ]
    },
    {
     "data": {
      "text/plain": [
       "<matplotlib.axes._subplots.AxesSubplot at 0x128263510>"
      ]
     },
     "execution_count": 27,
     "metadata": {},
     "output_type": "execute_result"
    },
    {
     "data": {
      "image/png": "[encoded data removed]",
      "text/plain": [
       "<Figure size 432x288 with 2 Axes>"
      ]
     },
     "metadata": {
      "needs_background": "light"
     },
     "output_type": "display_data"
    }
   ],
   "source": [
    "#Model 4:\n",
    "tree_model=tree.DecisionTreeClassifier().fit(X_train,y_train)\n",
    "y_pred = tree_model.predict(X_test)\n",
    "print(classification_report(y_test,y_pred))\n",
    "cm = confusion_matrix(y_test,y_pred)\n",
    "sns.heatmap(cm,annot=True)"
   ]
  },
  {
   "cell_type": "code",
   "execution_count": 28,
   "metadata": {},
   "outputs": [
    {
     "name": "stdout",
     "output_type": "stream",
     "text": [
      "               precision    recall  f1-score   support\n",
      "\n",
      "      Clarius       0.99      0.98      0.98       460\n",
      "Coronavirucus       1.00      1.00      1.00       215\n",
      "    Esequlius       0.99      0.96      0.97        78\n",
      "       Marcus       0.98      1.00      0.99      1039\n",
      "     Mongucus       1.00      0.96      0.98       110\n",
      "   Paithonius       0.98      0.96      0.97       120\n",
      "    Philippus       0.98      0.99      0.99       277\n",
      "     Ubuntius       0.98      0.94      0.96       105\n",
      "\n",
      "     accuracy                           0.99      2404\n",
      "    macro avg       0.99      0.97      0.98      2404\n",
      " weighted avg       0.99      0.99      0.99      2404\n",
      "\n"
     ]
    },
    {
     "data": {
      "text/plain": [
       "<matplotlib.axes._subplots.AxesSubplot at 0x128459d50>"
      ]
     },
     "execution_count": 28,
     "metadata": {},
     "output_type": "execute_result"
    },
    {
     "data": {
      "image/png": "[encoded data removed]",
      "text/plain": [
       "<Figure size 432x288 with 2 Axes>"
      ]
     },
     "metadata": {
      "needs_background": "light"
     },
     "output_type": "display_data"
    }
   ],
   "source": [
    "#Model 5:\n",
    "randomforest_model=RandomForestClassifier().fit(X_train,y_train)\n",
    "y_pred = randomforest_model.predict(X_test)\n",
    "print(classification_report(y_test,y_pred))\n",
    "cm = confusion_matrix(y_test,y_pred)\n",
    "sns.heatmap(cm,annot=True)"
   ]
  },
  {
   "cell_type": "code",
   "execution_count": 48,
   "metadata": {},
   "outputs": [
    {
     "name": "stderr",
     "output_type": "stream",
     "text": [
      "/usr/local/lib/python3.7/site-packages/sklearn/svm/_base.py:947: ConvergenceWarning: Liblinear failed to converge, increase the number of iterations.\n",
      "  \"the number of iterations.\", ConvergenceWarning)\n",
      "/usr/local/lib/python3.7/site-packages/sklearn/svm/_base.py:947: ConvergenceWarning: Liblinear failed to converge, increase the number of iterations.\n",
      "  \"the number of iterations.\", ConvergenceWarning)\n"
     ]
    },
    {
     "name": "stdout",
     "output_type": "stream",
     "text": [
      "               precision    recall  f1-score   support\n",
      "\n",
      "      Clarius       0.22      0.05      0.08       460\n",
      "Coronavirucus       0.89      0.90      0.90       215\n",
      "    Esequlius       0.00      0.00      0.00        78\n",
      "       Marcus       0.52      0.95      0.67      1039\n",
      "     Mongucus       0.86      0.65      0.74       110\n",
      "   Paithonius       0.33      0.02      0.03       120\n",
      "    Philippus       0.37      0.11      0.17       277\n",
      "     Ubuntius       0.00      0.00      0.00       105\n",
      "\n",
      "     accuracy                           0.54      2404\n",
      "    macro avg       0.40      0.33      0.32      2404\n",
      " weighted avg       0.44      0.54      0.44      2404\n",
      "\n"
     ]
    },
    {
     "name": "stderr",
     "output_type": "stream",
     "text": [
      "/usr/local/lib/python3.7/site-packages/sklearn/svm/_base.py:947: ConvergenceWarning: Liblinear failed to converge, increase the number of iterations.\n",
      "  \"the number of iterations.\", ConvergenceWarning)\n",
      "/usr/local/lib/python3.7/site-packages/sklearn/metrics/_classification.py:1272: UndefinedMetricWarning: Precision and F-score are ill-defined and being set to 0.0 in labels with no predicted samples. Use `zero_division` parameter to control this behavior.\n",
      "  _warn_prf(average, modifier, msg_start, len(result))\n"
     ]
    },
    {
     "data": {
      "text/plain": [
       "<matplotlib.axes._subplots.AxesSubplot at 0x12a907290>"
      ]
     },
     "execution_count": 48,
     "metadata": {},
     "output_type": "execute_result"
    },
    {
     "data": {
      "image/png": "[encoded data removed]",
      "text/plain": [
       "<Figure size 432x288 with 2 Axes>"
      ]
     },
     "metadata": {
      "needs_background": "light"
     },
     "output_type": "display_data"
    }
   ],
   "source": [
    "#model 6:\n",
    "svm_linear_model=CalibratedClassifierCV(LinearSVC(),cv=3).fit(X_train,y_train)\n",
    "y_pred = svm_linear_model.predict(X_test)\n",
    "print(classification_report(y_test,y_pred))\n",
    "cm = confusion_matrix(y_test,y_pred)\n",
    "sns.heatmap(cm,annot=True)"
   ]
  },
  {
   "cell_type": "code",
   "execution_count": 49,
   "metadata": {},
   "outputs": [
    {
     "name": "stderr",
     "output_type": "stream",
     "text": [
      "/usr/local/lib/python3.7/site-packages/sklearn/svm/_base.py:231: ConvergenceWarning: Solver terminated early (max_iter=200).  Consider pre-processing your data with StandardScaler or MinMaxScaler.\n",
      "  % self.max_iter, ConvergenceWarning)\n",
      "/usr/local/lib/python3.7/site-packages/sklearn/svm/_base.py:231: ConvergenceWarning: Solver terminated early (max_iter=200).  Consider pre-processing your data with StandardScaler or MinMaxScaler.\n",
      "  % self.max_iter, ConvergenceWarning)\n",
      "/usr/local/lib/python3.7/site-packages/sklearn/svm/_base.py:231: ConvergenceWarning: Solver terminated early (max_iter=200).  Consider pre-processing your data with StandardScaler or MinMaxScaler.\n",
      "  % self.max_iter, ConvergenceWarning)\n"
     ]
    },
    {
     "name": "stdout",
     "output_type": "stream",
     "text": [
      "               precision    recall  f1-score   support\n",
      "\n",
      "      Clarius       0.00      0.00      0.00       460\n",
      "Coronavirucus       0.87      0.86      0.86       215\n",
      "    Esequlius       0.00      0.00      0.00        78\n",
      "       Marcus       0.49      0.97      0.65      1039\n",
      "     Mongucus       0.77      0.78      0.77       110\n",
      "   Paithonius       0.00      0.00      0.00       120\n",
      "    Philippus       0.00      0.00      0.00       277\n",
      "     Ubuntius       0.00      0.00      0.00       105\n",
      "\n",
      "     accuracy                           0.53      2404\n",
      "    macro avg       0.27      0.33      0.29      2404\n",
      " weighted avg       0.32      0.53      0.39      2404\n",
      "\n"
     ]
    },
    {
     "name": "stderr",
     "output_type": "stream",
     "text": [
      "/usr/local/lib/python3.7/site-packages/sklearn/metrics/_classification.py:1272: UndefinedMetricWarning: Precision and F-score are ill-defined and being set to 0.0 in labels with no predicted samples. Use `zero_division` parameter to control this behavior.\n",
      "  _warn_prf(average, modifier, msg_start, len(result))\n"
     ]
    },
    {
     "data": {
      "text/plain": [
       "<matplotlib.axes._subplots.AxesSubplot at 0x12aa9f790>"
      ]
     },
     "execution_count": 49,
     "metadata": {},
     "output_type": "execute_result"
    },
    {
     "data": {
      "image/png": "[encoded data removed]",
      "text/plain": [
       "<Figure size 432x288 with 2 Axes>"
      ]
     },
     "metadata": {
      "needs_background": "light"
     },
     "output_type": "display_data"
    }
   ],
   "source": [
    "#model 7:\n",
    "svm_rbf_model=CalibratedClassifierCV(SVC(kernel=\"poly\",gamma=\"auto\", max_iter=200),cv=3).fit(X_train,y_train)\n",
    "y_pred = svm_rbf_model.predict(X_test)\n",
    "print(classification_report(y_test,y_pred))\n",
    "cm = confusion_matrix(y_test,y_pred)\n",
    "sns.heatmap(cm,annot=True)"
   ]
  },
  {
   "cell_type": "markdown",
   "metadata": {},
   "source": [
    "**Predictions:**"
   ]
  },
  {
   "cell_type": "code",
   "execution_count": 29,
   "metadata": {},
   "outputs": [],
   "source": [
    "#Model 1:\n",
    "y_pred_logistic = logistic_model.predict(test_dataset)\n",
    "test_logistic = pd.DataFrame(y_pred_logistic)"
   ]
  },
  {
   "cell_type": "code",
   "execution_count": 30,
   "metadata": {},
   "outputs": [
    {
     "data": {
      "text/plain": [
       "{'accuracy': 0.5805042436345482,\n",
       " 'quote': 'Nope, not good enough. But you shall rise as the glorious phoenix from the ashes of this score and get to the top!'}"
      ]
     },
     "execution_count": 30,
     "metadata": {},
     "output_type": "execute_result"
    }
   ],
   "source": [
    "res = requests.post(\"http://apila-bible.herokuapp.com/check\", files={\"csv_data\":test_logistic.to_csv(header=None)})\n",
    "res.json()"
   ]
  },
  {
   "cell_type": "code",
   "execution_count": 31,
   "metadata": {},
   "outputs": [],
   "source": [
    "#Model 2:\n",
    "y_pred_xgbc = XGBC_model.predict(test_dataset)\n",
    "test_xgbc = pd.DataFrame(y_pred_xgbc)"
   ]
  },
  {
   "cell_type": "code",
   "execution_count": 32,
   "metadata": {},
   "outputs": [
    {
     "data": {
      "text/plain": [
       "{'accuracy': 0.9347229156265602,\n",
       " 'quote': \"Great job! That's an impressive score. Will you give it an extra push? Almost at the top, care for a final `boost`?\"}"
      ]
     },
     "execution_count": 32,
     "metadata": {},
     "output_type": "execute_result"
    }
   ],
   "source": [
    "res = requests.post(\"http://apila-bible.herokuapp.com/check\", files={\"csv_data\":test_xgbc.to_csv(header=None)})\n",
    "res.json()"
   ]
  },
  {
   "cell_type": "code",
   "execution_count": 33,
   "metadata": {},
   "outputs": [],
   "source": [
    "#Model 3:\n",
    "y_pred_svc = SVC_model.predict(test_dataset)\n",
    "test_svc = pd.DataFrame(y_pred_svc)"
   ]
  },
  {
   "cell_type": "code",
   "execution_count": 34,
   "metadata": {},
   "outputs": [
    {
     "data": {
      "text/plain": [
       "{'accuracy': 0.7636045931103345,\n",
       " 'quote': \"Close, but no cigar. It's a good begining. How can you improve it more? Maybe try some different models?\"}"
      ]
     },
     "execution_count": 34,
     "metadata": {},
     "output_type": "execute_result"
    }
   ],
   "source": [
    "res = requests.post(\"http://apila-bible.herokuapp.com/check\", files={\"csv_data\":test_svc.to_csv(header=None)})\n",
    "res.json()"
   ]
  },
  {
   "cell_type": "code",
   "execution_count": 35,
   "metadata": {},
   "outputs": [],
   "source": [
    "#Model 4:\n",
    "y_pred_tree = tree_model.predict(test_dataset)\n",
    "test_tree = pd.DataFrame(y_pred_tree)"
   ]
  },
  {
   "cell_type": "code",
   "execution_count": 36,
   "metadata": {},
   "outputs": [
    {
     "data": {
      "text/plain": [
       "{'accuracy': 0.9573140289565651,\n",
       " 'quote': \"Great job! That's an impressive score. Will you give it an extra push? Almost at the top, care for a final `boost`?\"}"
      ]
     },
     "execution_count": 36,
     "metadata": {},
     "output_type": "execute_result"
    }
   ],
   "source": [
    "res = requests.post(\"http://apila-bible.herokuapp.com/check\", files={\"csv_data\":test_tree.to_csv(header=None)})\n",
    "res.json()"
   ]
  },
  {
   "cell_type": "code",
   "execution_count": 37,
   "metadata": {},
   "outputs": [],
   "source": [
    "#Model 5:\n",
    "y_pred_forest = randomforest_model.predict(test_dataset)\n",
    "test_forest = pd.DataFrame(y_pred_forest)"
   ]
  },
  {
   "cell_type": "code",
   "execution_count": 38,
   "metadata": {},
   "outputs": [
    {
     "data": {
      "text/plain": [
       "{'accuracy': 0.9866450324513231,\n",
       " 'quote': \"AWESOME! A-W-E-S-O-M-E! Amazing score!!! So cool! I can't even... But wait, maybe...too good to be true? Overfit much?\",\n",
       " 'tip': 'If you think you may have overfitted your model, visit http://apila-bible.herokuapp.com/check/overfit on your browser for some follow up. ;)'}"
      ]
     },
     "execution_count": 38,
     "metadata": {},
     "output_type": "execute_result"
    }
   ],
   "source": [
    "res = requests.post(\"http://apila-bible.herokuapp.com/check\", files={\"csv_data\":test_forest.to_csv(header=None)})\n",
    "res.json()"
   ]
  },
  {
   "cell_type": "code",
   "execution_count": 51,
   "metadata": {},
   "outputs": [],
   "source": [
    "#model 6:\n",
    "y_pred_svm_linear = svm_linear_model.predict(test_dataset)\n",
    "test_svm_linear = pd.DataFrame(y_pred_svm_linear)"
   ]
  },
  {
   "cell_type": "code",
   "execution_count": 52,
   "metadata": {},
   "outputs": [
    {
     "data": {
      "text/plain": [
       "{'accuracy': 0.5464303544682976,\n",
       " 'quote': 'Nope, not good enough. But you shall rise as the glorious phoenix from the ashes of this score and get to the top!'}"
      ]
     },
     "execution_count": 52,
     "metadata": {},
     "output_type": "execute_result"
    }
   ],
   "source": [
    "res = requests.post(\"http://apila-bible.herokuapp.com/check\", files={\"csv_data\":test_svm_linear.to_csv(header=None)})\n",
    "res.json()"
   ]
  },
  {
   "cell_type": "code",
   "execution_count": 53,
   "metadata": {},
   "outputs": [],
   "source": [
    "#model 7:\n",
    "y_pred_svm_rbf_model = svm_linear_model.predict(test_dataset)\n",
    "test_svm_rbf_model = pd.DataFrame(y_pred_svm_rbf_model)"
   ]
  },
  {
   "cell_type": "code",
   "execution_count": 54,
   "metadata": {},
   "outputs": [
    {
     "data": {
      "text/plain": [
       "{'accuracy': 0.5464303544682976,\n",
       " 'quote': 'Nope, not good enough. But you shall rise as the glorious phoenix from the ashes of this score and get to the top!'}"
      ]
     },
     "execution_count": 54,
     "metadata": {},
     "output_type": "execute_result"
    }
   ],
   "source": [
    "res = requests.post(\"http://apila-bible.herokuapp.com/check\", files={\"csv_data\":test_svm_rbf_model.to_csv(header=None)})\n",
    "res.json()"
   ]
  },
  {
   "cell_type": "markdown",
   "metadata": {},
   "source": [
    "## What do I do once I have a prediction?"
   ]
  },
  {
   "cell_type": "markdown",
   "metadata": {},
   "source": [
    "Once you have already trained your model and made a prediction with it, you are ready to check what is the accuracy of it. \n",
    "\n",
    "Save your prediction as a `.csv` file."
   ]
  },
  {
   "cell_type": "code",
   "execution_count": null,
   "metadata": {},
   "outputs": [],
   "source": [
    "#your code here"
   ]
  },
  {
   "cell_type": "markdown",
   "metadata": {},
   "source": [
    "Now you are ready to know the truth! Are you good enough to call yourself a pro?\n",
    "\n",
    "Lucky you have the ultimate **APIla-bible** which give you the chance of checking the accuracy of your predictions as many times as you need in order to become the pro you want to be. "
   ]
  },
  {
   "cell_type": "markdown",
   "metadata": {},
   "source": [
    "## How do I post my prediction to the APIla-bible?"
   ]
  },
  {
   "cell_type": "markdown",
   "metadata": {},
   "source": [
    "Easy peasy! You should only fulfil the path to your prediction `.csv` and run the cell below! "
   ]
  },
  {
   "cell_type": "code",
   "execution_count": null,
   "metadata": {},
   "outputs": [],
   "source": [
    "my_submission = \"../data/sample_submission.csv\"\n",
    "with open(my_submission) as f:\n",
    "    res = requests.post(\"http://apila-bible.herokuapp.com/check\", files={\"csv_data\":f.read()})\n",
    "res.json()"
   ]
  },
  {
   "cell_type": "markdown",
   "metadata": {},
   "source": [
    "![hope-you-enjoy](https://imgs.xkcd.com/comics/machine_learning.png)"
   ]
  }
 ],
 "metadata": {
  "kernelspec": {
   "display_name": "Python 3",
   "language": "python",
   "name": "python3"
  },
  "language_info": {
   "codemirror_mode": {
    "name": "ipython",
    "version": 3
   },
   "file_extension": ".py",
   "mimetype": "text/x-python",
   "name": "python",
   "nbconvert_exporter": "python",
   "pygments_lexer": "ipython3",
   "version": "3.7.7"
  }
 },
 "nbformat": 4,
 "nbformat_minor": 2
}
