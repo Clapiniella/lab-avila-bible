{
 "cells": [
  {
   "cell_type": "markdown",
   "metadata": {},
   "source": [
    "# Lab | Avila Bible "
   ]
  },
  {
   "cell_type": "markdown",
   "metadata": {},
   "source": [
    "In this lab, we will explore the [**Avila Bible dataset**](https://archive.ics.uci.edu/ml/datasets/Avila) which has been extracted from 800 images of the 'Avila Bible', an XII century giant Latin copy of the Bible. The prediction task consists in associating each pattern to a copyist. You will use supervised learning algorithms to figure out what feature patterns each copyist are likely to have and use our model to predict those copyist."
   ]
  },
  {
   "cell_type": "markdown",
   "metadata": {},
   "source": [
    "-----------------------------------------------------------------------------------------------------------------"
   ]
  },
  {
   "cell_type": "markdown",
   "metadata": {},
   "source": [
    "## Before your start:\n",
    "    - Read the README.md file,\n",
    "    - Comment as much as you can and use the APIla-bible in the README.md,\n",
    "    - Happy learning!"
   ]
  },
  {
   "cell_type": "code",
   "execution_count": 2,
   "metadata": {},
   "outputs": [],
   "source": [
    "# Import your libraries\n",
    "import pandas as pd\n",
    "import numpy as np\n",
    "import requests\n",
    "from scipy import stats\n",
    "import sklearn\n",
    "import matplotlib.pyplot as plt\n",
    "from matplotlib.pyplot import figure\n",
    "import seaborn as sns\n",
    "from sklearn.linear_model import LogisticRegression\n",
    "from sklearn.svm import SVC\n",
    "from sklearn.model_selection import train_test_split\n",
    "from sklearn.metrics import classification_report\n",
    "from sklearn.ensemble import GradientBoostingClassifier\n",
    "\n",
    "from sklearn.model_selection import GridSearchCV"
   ]
  },
  {
   "cell_type": "code",
   "execution_count": null,
   "metadata": {},
   "outputs": [],
   "source": [
    "![machine-learning](https://miro.medium.com/proxy/1*halC1X4ydv_3yHYxKqvrwg.gif)"
   ]
  },
  {
   "cell_type": "markdown",
   "metadata": {},
   "source": [
    "The Avila data set has been extracted from 800 images of the the **Avila Bible**, a giant Latin copy of the whole Bible produced during the XII century between Italy and Spain. The palaeographic analysis of the  manuscript has  individuated the presence of 12 copyists. The pages written by each copyist are not equally numerous. \n",
    "Each pattern contains 10 features and corresponds to a group of 4 consecutive rows."
   ]
  },
  {
   "cell_type": "markdown",
   "metadata": {},
   "source": [
    "## What am I expected to do?"
   ]
  },
  {
   "cell_type": "markdown",
   "metadata": {},
   "source": [
    "Well, your prediction task consists in associating each pattern to one of the 8 monks we will be evaluating (labeled as:  Marcus, Clarius, Philippus, Coronavirucus, Mongucus, Paithonius, Ubuntius, Esequlius). For that aim, you should: \n",
    "- Train a minimum of 4 different models\n",
    "- Perform a minimum of 4 Feature Extraction and Engineering techniques\n",
    "- Must contain a summary of the machine learning tools and algorithms\n",
    "- and the results or the score obtained with each of them\n",
    "\n",
    "You won't get much more instructions from now on. Remember to comment your code as much as you can. Keep the requirements in mind and have fun! "
   ]
  },
  {
   "cell_type": "markdown",
   "metadata": {},
   "source": [
    "Just one last piece of advice, take a moment to explore the data, remember this dataset contains two files: **train** and **test**. You will find both files in `data` folder. The **test** files contains the data you will predict for, therefore it does not include the labels.\n",
    "Use the **train** dataset as you wish, but don't forget to split it into **train** and **test** again so you can evaluate your models. Just be sure to train it again with the whole data before predicting.\n",
    "We have also included a **sample submission** which is of the exact shape and format you must use when evaluating your predictions against the groundtruth through the `APIla-bible`. It won't work unless it is the exact same shape. \n",
    "\n"
   ]
  },
  {
   "cell_type": "markdown",
   "metadata": {},
   "source": [
    "#### Train dataset"
   ]
  },
  {
   "cell_type": "code",
   "execution_count": 2,
   "metadata": {},
   "outputs": [],
   "source": [
    "train_dataset = pd.read_csv('../data/training_dataset.csv', index_col=0)"
   ]
  },
  {
   "cell_type": "code",
   "execution_count": 3,
   "metadata": {},
   "outputs": [
    {
     "data": {
      "text/html": [
       "<div>\n",
       "<style scoped>\n",
       "    .dataframe tbody tr th:only-of-type {\n",
       "        vertical-align: middle;\n",
       "    }\n",
       "\n",
       "    .dataframe tbody tr th {\n",
       "        vertical-align: top;\n",
       "    }\n",
       "\n",
       "    .dataframe thead th {\n",
       "        text-align: right;\n",
       "    }\n",
       "</style>\n",
       "<table border=\"1\" class=\"dataframe\">\n",
       "  <thead>\n",
       "    <tr style=\"text-align: right;\">\n",
       "      <th></th>\n",
       "      <th>0</th>\n",
       "      <th>1</th>\n",
       "      <th>2</th>\n",
       "      <th>3</th>\n",
       "      <th>4</th>\n",
       "      <th>5</th>\n",
       "      <th>6</th>\n",
       "      <th>7</th>\n",
       "      <th>8</th>\n",
       "      <th>9</th>\n",
       "      <th>10</th>\n",
       "    </tr>\n",
       "  </thead>\n",
       "  <tbody>\n",
       "    <tr>\n",
       "      <th>0</th>\n",
       "      <td>0.241386</td>\n",
       "      <td>0.109171</td>\n",
       "      <td>-0.127126</td>\n",
       "      <td>0.380626</td>\n",
       "      <td>0.172340</td>\n",
       "      <td>0.314889</td>\n",
       "      <td>0.484429</td>\n",
       "      <td>0.316412</td>\n",
       "      <td>0.188810</td>\n",
       "      <td>0.134922</td>\n",
       "      <td>Marcus</td>\n",
       "    </tr>\n",
       "    <tr>\n",
       "      <th>1</th>\n",
       "      <td>0.303106</td>\n",
       "      <td>0.352558</td>\n",
       "      <td>0.082701</td>\n",
       "      <td>0.703981</td>\n",
       "      <td>0.261718</td>\n",
       "      <td>-0.391033</td>\n",
       "      <td>0.408929</td>\n",
       "      <td>1.045014</td>\n",
       "      <td>0.282354</td>\n",
       "      <td>-0.448209</td>\n",
       "      <td>Clarius</td>\n",
       "    </tr>\n",
       "    <tr>\n",
       "      <th>2</th>\n",
       "      <td>-0.116585</td>\n",
       "      <td>0.281897</td>\n",
       "      <td>0.175168</td>\n",
       "      <td>-0.152490</td>\n",
       "      <td>0.261718</td>\n",
       "      <td>-0.889332</td>\n",
       "      <td>0.371178</td>\n",
       "      <td>-0.024328</td>\n",
       "      <td>0.905984</td>\n",
       "      <td>-0.877830</td>\n",
       "      <td>Philippus</td>\n",
       "    </tr>\n",
       "    <tr>\n",
       "      <th>3</th>\n",
       "      <td>-0.326430</td>\n",
       "      <td>-0.652394</td>\n",
       "      <td>0.384996</td>\n",
       "      <td>-1.694222</td>\n",
       "      <td>-0.185173</td>\n",
       "      <td>-1.138481</td>\n",
       "      <td>-0.232828</td>\n",
       "      <td>-1.747116</td>\n",
       "      <td>-1.183175</td>\n",
       "      <td>-0.807380</td>\n",
       "      <td>Philippus</td>\n",
       "    </tr>\n",
       "    <tr>\n",
       "      <th>4</th>\n",
       "      <td>-0.437525</td>\n",
       "      <td>-0.471816</td>\n",
       "      <td>0.463236</td>\n",
       "      <td>-0.545248</td>\n",
       "      <td>0.261718</td>\n",
       "      <td>-0.972381</td>\n",
       "      <td>0.824183</td>\n",
       "      <td>-3.108388</td>\n",
       "      <td>-2.991700</td>\n",
       "      <td>-1.141030</td>\n",
       "      <td>Philippus</td>\n",
       "    </tr>\n",
       "  </tbody>\n",
       "</table>\n",
       "</div>"
      ],
      "text/plain": [
       "          0         1         2         3         4         5         6  \\\n",
       "0  0.241386  0.109171 -0.127126  0.380626  0.172340  0.314889  0.484429   \n",
       "1  0.303106  0.352558  0.082701  0.703981  0.261718 -0.391033  0.408929   \n",
       "2 -0.116585  0.281897  0.175168 -0.152490  0.261718 -0.889332  0.371178   \n",
       "3 -0.326430 -0.652394  0.384996 -1.694222 -0.185173 -1.138481 -0.232828   \n",
       "4 -0.437525 -0.471816  0.463236 -0.545248  0.261718 -0.972381  0.824183   \n",
       "\n",
       "          7         8         9         10  \n",
       "0  0.316412  0.188810  0.134922     Marcus  \n",
       "1  1.045014  0.282354 -0.448209    Clarius  \n",
       "2 -0.024328  0.905984 -0.877830  Philippus  \n",
       "3 -1.747116 -1.183175 -0.807380  Philippus  \n",
       "4 -3.108388 -2.991700 -1.141030  Philippus  "
      ]
     },
     "execution_count": 3,
     "metadata": {},
     "output_type": "execute_result"
    }
   ],
   "source": [
    "train_dataset.head()"
   ]
  },
  {
   "cell_type": "markdown",
   "metadata": {},
   "source": [
    "#### Test dataset\n"
   ]
  },
  {
   "cell_type": "code",
   "execution_count": 4,
   "metadata": {},
   "outputs": [],
   "source": [
    "test_dataset = pd.read_csv('../data/test_dataset.csv', index_col=0)"
   ]
  },
  {
   "cell_type": "code",
   "execution_count": 5,
   "metadata": {},
   "outputs": [
    {
     "data": {
      "text/html": [
       "<div>\n",
       "<style scoped>\n",
       "    .dataframe tbody tr th:only-of-type {\n",
       "        vertical-align: middle;\n",
       "    }\n",
       "\n",
       "    .dataframe tbody tr th {\n",
       "        vertical-align: top;\n",
       "    }\n",
       "\n",
       "    .dataframe thead th {\n",
       "        text-align: right;\n",
       "    }\n",
       "</style>\n",
       "<table border=\"1\" class=\"dataframe\">\n",
       "  <thead>\n",
       "    <tr style=\"text-align: right;\">\n",
       "      <th></th>\n",
       "      <th>0</th>\n",
       "      <th>1</th>\n",
       "      <th>2</th>\n",
       "      <th>3</th>\n",
       "      <th>4</th>\n",
       "      <th>5</th>\n",
       "      <th>6</th>\n",
       "      <th>7</th>\n",
       "      <th>8</th>\n",
       "      <th>9</th>\n",
       "    </tr>\n",
       "  </thead>\n",
       "  <tbody>\n",
       "    <tr>\n",
       "      <th>0</th>\n",
       "      <td>-0.017834</td>\n",
       "      <td>0.132725</td>\n",
       "      <td>0.125378</td>\n",
       "      <td>1.357345</td>\n",
       "      <td>0.261718</td>\n",
       "      <td>0.190314</td>\n",
       "      <td>0.182426</td>\n",
       "      <td>0.445253</td>\n",
       "      <td>-0.715453</td>\n",
       "      <td>0.189796</td>\n",
       "    </tr>\n",
       "    <tr>\n",
       "      <th>1</th>\n",
       "      <td>-0.202992</td>\n",
       "      <td>-0.000745</td>\n",
       "      <td>-3.210528</td>\n",
       "      <td>-0.527256</td>\n",
       "      <td>0.082961</td>\n",
       "      <td>0.771662</td>\n",
       "      <td>0.144676</td>\n",
       "      <td>0.098572</td>\n",
       "      <td>0.251173</td>\n",
       "      <td>0.745333</td>\n",
       "    </tr>\n",
       "    <tr>\n",
       "      <th>2</th>\n",
       "      <td>1.019049</td>\n",
       "      <td>0.211237</td>\n",
       "      <td>-0.155578</td>\n",
       "      <td>-0.311855</td>\n",
       "      <td>0.261718</td>\n",
       "      <td>0.107265</td>\n",
       "      <td>0.484429</td>\n",
       "      <td>0.339303</td>\n",
       "      <td>-0.310094</td>\n",
       "      <td>-0.049630</td>\n",
       "    </tr>\n",
       "    <tr>\n",
       "      <th>3</th>\n",
       "      <td>0.451232</td>\n",
       "      <td>-0.267686</td>\n",
       "      <td>0.335206</td>\n",
       "      <td>-0.831336</td>\n",
       "      <td>0.261718</td>\n",
       "      <td>0.024215</td>\n",
       "      <td>0.220177</td>\n",
       "      <td>0.988787</td>\n",
       "      <td>0.032902</td>\n",
       "      <td>0.025485</td>\n",
       "    </tr>\n",
       "    <tr>\n",
       "      <th>4</th>\n",
       "      <td>-0.227680</td>\n",
       "      <td>0.109171</td>\n",
       "      <td>0.413447</td>\n",
       "      <td>0.118917</td>\n",
       "      <td>0.172340</td>\n",
       "      <td>0.480988</td>\n",
       "      <td>0.522180</td>\n",
       "      <td>0.091562</td>\n",
       "      <td>0.313536</td>\n",
       "      <td>0.256389</td>\n",
       "    </tr>\n",
       "  </tbody>\n",
       "</table>\n",
       "</div>"
      ],
      "text/plain": [
       "          0         1         2         3         4         5         6  \\\n",
       "0 -0.017834  0.132725  0.125378  1.357345  0.261718  0.190314  0.182426   \n",
       "1 -0.202992 -0.000745 -3.210528 -0.527256  0.082961  0.771662  0.144676   \n",
       "2  1.019049  0.211237 -0.155578 -0.311855  0.261718  0.107265  0.484429   \n",
       "3  0.451232 -0.267686  0.335206 -0.831336  0.261718  0.024215  0.220177   \n",
       "4 -0.227680  0.109171  0.413447  0.118917  0.172340  0.480988  0.522180   \n",
       "\n",
       "          7         8         9  \n",
       "0  0.445253 -0.715453  0.189796  \n",
       "1  0.098572  0.251173  0.745333  \n",
       "2  0.339303 -0.310094 -0.049630  \n",
       "3  0.988787  0.032902  0.025485  \n",
       "4  0.091562  0.313536  0.256389  "
      ]
     },
     "execution_count": 5,
     "metadata": {},
     "output_type": "execute_result"
    }
   ],
   "source": [
    "test_dataset.head()"
   ]
  },
  {
   "cell_type": "markdown",
   "metadata": {},
   "source": [
    "#### Sample submission"
   ]
  },
  {
   "cell_type": "code",
   "execution_count": 6,
   "metadata": {},
   "outputs": [],
   "source": [
    "sample_submission = pd.read_csv('../data/sample_submission.csv', header=None, index_col=0)"
   ]
  },
  {
   "cell_type": "code",
   "execution_count": 7,
   "metadata": {},
   "outputs": [
    {
     "data": {
      "text/html": [
       "<div>\n",
       "<style scoped>\n",
       "    .dataframe tbody tr th:only-of-type {\n",
       "        vertical-align: middle;\n",
       "    }\n",
       "\n",
       "    .dataframe tbody tr th {\n",
       "        vertical-align: top;\n",
       "    }\n",
       "\n",
       "    .dataframe thead th {\n",
       "        text-align: right;\n",
       "    }\n",
       "</style>\n",
       "<table border=\"1\" class=\"dataframe\">\n",
       "  <thead>\n",
       "    <tr style=\"text-align: right;\">\n",
       "      <th></th>\n",
       "      <th>1</th>\n",
       "    </tr>\n",
       "    <tr>\n",
       "      <th>0</th>\n",
       "      <th></th>\n",
       "    </tr>\n",
       "  </thead>\n",
       "  <tbody>\n",
       "    <tr>\n",
       "      <th>0</th>\n",
       "      <td>Philippus</td>\n",
       "    </tr>\n",
       "    <tr>\n",
       "      <th>1</th>\n",
       "      <td>Ubuntius</td>\n",
       "    </tr>\n",
       "    <tr>\n",
       "      <th>2</th>\n",
       "      <td>Esequlius</td>\n",
       "    </tr>\n",
       "    <tr>\n",
       "      <th>3</th>\n",
       "      <td>Coronavirucus</td>\n",
       "    </tr>\n",
       "    <tr>\n",
       "      <th>4</th>\n",
       "      <td>Philippus</td>\n",
       "    </tr>\n",
       "  </tbody>\n",
       "</table>\n",
       "</div>"
      ],
      "text/plain": [
       "               1\n",
       "0               \n",
       "0      Philippus\n",
       "1       Ubuntius\n",
       "2      Esequlius\n",
       "3  Coronavirucus\n",
       "4      Philippus"
      ]
     },
     "execution_count": 7,
     "metadata": {},
     "output_type": "execute_result"
    }
   ],
   "source": [
    "sample_submission.head()"
   ]
  },
  {
   "cell_type": "markdown",
   "metadata": {},
   "source": [
    "`Keep calm and code on!`"
   ]
  },
  {
   "cell_type": "markdown",
   "metadata": {},
   "source": [
    "# Challenge - train your models, make the best prediction"
   ]
  },
  {
   "cell_type": "markdown",
   "metadata": {},
   "source": [
    "### Preprocesado de los datos"
   ]
  },
  {
   "cell_type": "code",
   "execution_count": 8,
   "metadata": {},
   "outputs": [],
   "source": [
    "# Definir la X, variables predictoras\n",
    "X = train_dataset.drop([\"10\"], axis=1)\n",
    "# Definir la variable dependiente\n",
    "y = train_dataset[[\"10\"]].rename(columns={\"10\": \"autor\"})\n",
    "# Valores únicos\n",
    "y[\"autor\"].unique()\n",
    "# Asignar un número de clase a los autores, por si el clasificador no admite nombres\n",
    "y.loc[(y.autor == 'Marcus'),'class']='1'\n",
    "y.loc[(y.autor == 'Clarius'),'class']='2'\n",
    "y.loc[(y.autor == 'Philippus'),'class']='3'\n",
    "y.loc[(y.autor == 'Coronavirucus'),'class']='4'\n",
    "y.loc[(y.autor == 'Mongucus'),'class']='5'\n",
    "y.loc[(y.autor == 'Paithonius'),'class']='6'\n",
    "y.loc[(y.autor == 'Ubuntius'),'class']='7'\n",
    "y.loc[(y.autor == 'Esequlius'),'class']='8'"
   ]
  },
  {
   "cell_type": "markdown",
   "metadata": {},
   "source": [
    "#### Comprobar si hay datos nulos"
   ]
  },
  {
   "cell_type": "code",
   "execution_count": 9,
   "metadata": {},
   "outputs": [
    {
     "data": {
      "text/plain": [
       "9    0\n",
       "8    0\n",
       "7    0\n",
       "6    0\n",
       "5    0\n",
       "4    0\n",
       "3    0\n",
       "2    0\n",
       "1    0\n",
       "0    0\n",
       "dtype: int64"
      ]
     },
     "execution_count": 9,
     "metadata": {},
     "output_type": "execute_result"
    }
   ],
   "source": [
    "X.isna().sum().sort_values(ascending=False)"
   ]
  },
  {
   "cell_type": "markdown",
   "metadata": {},
   "source": [
    "#### Frecuencia de cada autor en los datos de entrenamiento"
   ]
  },
  {
   "cell_type": "code",
   "execution_count": 31,
   "metadata": {
    "scrolled": true
   },
   "outputs": [
    {
     "data": {
      "text/plain": [
       "Marcus           5107\n",
       "Clarius          2362\n",
       "Philippus        1360\n",
       "Coronavirucus    1009\n",
       "Mongucus          640\n",
       "Paithonius        600\n",
       "Ubuntius          512\n",
       "Esequlius         427\n",
       "Name: autor, dtype: int64"
      ]
     },
     "execution_count": 31,
     "metadata": {},
     "output_type": "execute_result"
    }
   ],
   "source": [
    "y['autor'].value_counts()"
   ]
  },
  {
   "cell_type": "markdown",
   "metadata": {},
   "source": [
    "#### Estadística básica en busca de outliers"
   ]
  },
  {
   "cell_type": "code",
   "execution_count": 10,
   "metadata": {
    "scrolled": false
   },
   "outputs": [
    {
     "data": {
      "text/html": [
       "<div>\n",
       "<style scoped>\n",
       "    .dataframe tbody tr th:only-of-type {\n",
       "        vertical-align: middle;\n",
       "    }\n",
       "\n",
       "    .dataframe tbody tr th {\n",
       "        vertical-align: top;\n",
       "    }\n",
       "\n",
       "    .dataframe thead th {\n",
       "        text-align: right;\n",
       "    }\n",
       "</style>\n",
       "<table border=\"1\" class=\"dataframe\">\n",
       "  <thead>\n",
       "    <tr style=\"text-align: right;\">\n",
       "      <th></th>\n",
       "      <th>0</th>\n",
       "      <th>1</th>\n",
       "      <th>2</th>\n",
       "      <th>3</th>\n",
       "      <th>4</th>\n",
       "      <th>5</th>\n",
       "      <th>6</th>\n",
       "      <th>7</th>\n",
       "      <th>8</th>\n",
       "      <th>9</th>\n",
       "    </tr>\n",
       "  </thead>\n",
       "  <tbody>\n",
       "    <tr>\n",
       "      <th>count</th>\n",
       "      <td>12017.000000</td>\n",
       "      <td>12017.000000</td>\n",
       "      <td>12017.000000</td>\n",
       "      <td>12017.000000</td>\n",
       "      <td>12017.000000</td>\n",
       "      <td>12017.000000</td>\n",
       "      <td>12017.000000</td>\n",
       "      <td>12017.000000</td>\n",
       "      <td>12017.000000</td>\n",
       "      <td>12017.000000</td>\n",
       "    </tr>\n",
       "    <tr>\n",
       "      <th>mean</th>\n",
       "      <td>0.021280</td>\n",
       "      <td>0.030684</td>\n",
       "      <td>-0.000379</td>\n",
       "      <td>-0.022127</td>\n",
       "      <td>0.006801</td>\n",
       "      <td>-0.001279</td>\n",
       "      <td>0.032540</td>\n",
       "      <td>-0.006720</td>\n",
       "      <td>-0.011368</td>\n",
       "      <td>-0.026942</td>\n",
       "    </tr>\n",
       "    <tr>\n",
       "      <th>std</th>\n",
       "      <td>1.004481</td>\n",
       "      <td>3.661030</td>\n",
       "      <td>1.072319</td>\n",
       "      <td>1.002045</td>\n",
       "      <td>0.963679</td>\n",
       "      <td>1.108192</td>\n",
       "      <td>1.245215</td>\n",
       "      <td>1.012995</td>\n",
       "      <td>1.085821</td>\n",
       "      <td>0.985799</td>\n",
       "    </tr>\n",
       "    <tr>\n",
       "      <th>min</th>\n",
       "      <td>-3.498799</td>\n",
       "      <td>-2.426761</td>\n",
       "      <td>-3.210528</td>\n",
       "      <td>-5.440122</td>\n",
       "      <td>-4.922215</td>\n",
       "      <td>-7.450257</td>\n",
       "      <td>-11.935457</td>\n",
       "      <td>-4.164819</td>\n",
       "      <td>-5.486218</td>\n",
       "      <td>-6.719324</td>\n",
       "    </tr>\n",
       "    <tr>\n",
       "      <th>25%</th>\n",
       "      <td>-0.128929</td>\n",
       "      <td>-0.259834</td>\n",
       "      <td>0.064919</td>\n",
       "      <td>-0.542563</td>\n",
       "      <td>0.172340</td>\n",
       "      <td>-0.598658</td>\n",
       "      <td>-0.006326</td>\n",
       "      <td>-0.555747</td>\n",
       "      <td>-0.372457</td>\n",
       "      <td>-0.528135</td>\n",
       "    </tr>\n",
       "    <tr>\n",
       "      <th>50%</th>\n",
       "      <td>0.056229</td>\n",
       "      <td>-0.055704</td>\n",
       "      <td>0.214288</td>\n",
       "      <td>0.080127</td>\n",
       "      <td>0.261718</td>\n",
       "      <td>-0.058835</td>\n",
       "      <td>0.220177</td>\n",
       "      <td>0.101115</td>\n",
       "      <td>0.064084</td>\n",
       "      <td>-0.053548</td>\n",
       "    </tr>\n",
       "    <tr>\n",
       "      <th>75%</th>\n",
       "      <td>0.216699</td>\n",
       "      <td>0.203385</td>\n",
       "      <td>0.349432</td>\n",
       "      <td>0.601905</td>\n",
       "      <td>0.261718</td>\n",
       "      <td>0.522513</td>\n",
       "      <td>0.446679</td>\n",
       "      <td>0.646377</td>\n",
       "      <td>0.500624</td>\n",
       "      <td>0.491862</td>\n",
       "    </tr>\n",
       "    <tr>\n",
       "      <th>max</th>\n",
       "      <td>11.819916</td>\n",
       "      <td>386.000000</td>\n",
       "      <td>50.000000</td>\n",
       "      <td>3.987152</td>\n",
       "      <td>1.066121</td>\n",
       "      <td>53.000000</td>\n",
       "      <td>83.000000</td>\n",
       "      <td>13.173081</td>\n",
       "      <td>44.000000</td>\n",
       "      <td>11.911338</td>\n",
       "    </tr>\n",
       "  </tbody>\n",
       "</table>\n",
       "</div>"
      ],
      "text/plain": [
       "                  0             1             2             3             4  \\\n",
       "count  12017.000000  12017.000000  12017.000000  12017.000000  12017.000000   \n",
       "mean       0.021280      0.030684     -0.000379     -0.022127      0.006801   \n",
       "std        1.004481      3.661030      1.072319      1.002045      0.963679   \n",
       "min       -3.498799     -2.426761     -3.210528     -5.440122     -4.922215   \n",
       "25%       -0.128929     -0.259834      0.064919     -0.542563      0.172340   \n",
       "50%        0.056229     -0.055704      0.214288      0.080127      0.261718   \n",
       "75%        0.216699      0.203385      0.349432      0.601905      0.261718   \n",
       "max       11.819916    386.000000     50.000000      3.987152      1.066121   \n",
       "\n",
       "                  5             6             7             8             9  \n",
       "count  12017.000000  12017.000000  12017.000000  12017.000000  12017.000000  \n",
       "mean      -0.001279      0.032540     -0.006720     -0.011368     -0.026942  \n",
       "std        1.108192      1.245215      1.012995      1.085821      0.985799  \n",
       "min       -7.450257    -11.935457     -4.164819     -5.486218     -6.719324  \n",
       "25%       -0.598658     -0.006326     -0.555747     -0.372457     -0.528135  \n",
       "50%       -0.058835      0.220177      0.101115      0.064084     -0.053548  \n",
       "75%        0.522513      0.446679      0.646377      0.500624      0.491862  \n",
       "max       53.000000     83.000000     13.173081     44.000000     11.911338  "
      ]
     },
     "execution_count": 10,
     "metadata": {},
     "output_type": "execute_result"
    }
   ],
   "source": [
    "X.describe()"
   ]
  },
  {
   "cell_type": "markdown",
   "metadata": {},
   "source": [
    "#### Filtrado de outliers"
   ]
  },
  {
   "cell_type": "code",
   "execution_count": 11,
   "metadata": {},
   "outputs": [],
   "source": [
    "X_cl = X[(np.abs(stats.zscore(X)) < 3).all(axis=1)]\n",
    "#X_cl.describe()\n",
    "# Actualizar la y con las filan que quedan tras la limpieza\n",
    "y_cl = y[y.index.isin(X_cl.index)]"
   ]
  },
  {
   "cell_type": "markdown",
   "metadata": {},
   "source": [
    "#### Reducción de variables mediante PCA (por probar)"
   ]
  },
  {
   "cell_type": "code",
   "execution_count": 12,
   "metadata": {},
   "outputs": [],
   "source": [
    "from sklearn.decomposition import PCA\n",
    "# Definir la PCA\n",
    "pca = PCA(n_components=2)\n",
    "# Ajustar a los datos en bruto\n",
    "X_pca = pca.fit_transform(X)\n",
    "# Convertir a dataframe\n",
    "PCA_df = pd.DataFrame(data = X_pca, columns = ['PC1', 'PC2'])\n",
    "# Añadir las equiquetas\n",
    "PCA_df = pd.concat([PCA_df, y['autor']], axis = 1)\n",
    "\n",
    "# Ajustar a los datos sin outliers\n",
    "X_pcacl = pca.fit_transform(X_cl)\n",
    "# Convertir a dataframe\n",
    "PCA_dfcl = pd.DataFrame(data = X_pcacl, columns = ['PC1', 'PC2'])\n",
    "# Añadir las etiquetas\n",
    "PCA_dfcl = pd.concat([PCA_dfcl, y_cl['autor']], axis = 1)"
   ]
  },
  {
   "cell_type": "code",
   "execution_count": 13,
   "metadata": {
    "scrolled": true
   },
   "outputs": [
    {
     "data": {
      "image/png": "[encoded data removed]",
      "text/plain": [
       "<Figure size 900x360 with 2 Axes>"
      ]
     },
     "metadata": {
      "needs_background": "light"
     },
     "output_type": "display_data"
    }
   ],
   "source": [
    "fig,axes = plt.subplots(figsize = (10,4),nrows = 1, ncols = 2, dpi=90)\n",
    "plt.sca(axes[0])\n",
    "sns.scatterplot(PCA_df.PC1, PCA_df.PC2, hue = PCA_df[\"autor\"])    \n",
    "plt.xlabel('Principal Component 1', fontsize = 12)\n",
    "plt.ylabel('Principal Component 2', fontsize = 12)\n",
    "plt.title('Con outliers', fontsize = 15)\n",
    "plt.legend(PCA_df[\"autor\"])\n",
    "plt.grid()\n",
    "plt.sca(axes[1])\n",
    "sns.scatterplot(PCA_dfcl.PC1, PCA_dfcl.PC2, hue = PCA_dfcl[\"autor\"])    \n",
    "plt.xlabel('Principal Component 1', fontsize = 12)\n",
    "plt.ylabel('Principal Component 2', fontsize = 12)\n",
    "plt.title('Sin outliers', fontsize = 15)\n",
    "plt.legend(PCA_df[\"autor\"])\n",
    "plt.grid()"
   ]
  },
  {
   "cell_type": "markdown",
   "metadata": {},
   "source": [
    "**EN DATOS CON TAN POCAS VARIABLES, LA PCA NO SIRVE PARA NADA. LA PONGO PARA ILUSTRAR Y DARLE VIDILLA.**"
   ]
  },
  {
   "cell_type": "markdown",
   "metadata": {},
   "source": [
    "### Modelos"
   ]
  },
  {
   "cell_type": "markdown",
   "metadata": {},
   "source": [
    "#### Dividir las muestras de entrenamiento y validación"
   ]
  },
  {
   "cell_type": "code",
   "execution_count": 14,
   "metadata": {},
   "outputs": [],
   "source": [
    "# Para datos en bruto\n",
    "X_train, X_test, y_train, y_test = train_test_split(X, y[\"autor\"], test_size=0.25)\n",
    "\n",
    "# Para datos sin outliers\n",
    "X_traincl, X_testcl, y_traincl, y_testcl = train_test_split(X_cl, y_cl[\"autor\"], test_size=0.25)"
   ]
  },
  {
   "cell_type": "markdown",
   "metadata": {},
   "source": [
    "#### Regresión Logística \n",
    "\n",
    "* Datos en bruto. Solver: `saga`"
   ]
  },
  {
   "cell_type": "code",
   "execution_count": 15,
   "metadata": {
    "scrolled": true
   },
   "outputs": [
    {
     "name": "stdout",
     "output_type": "stream",
     "text": [
      "               precision    recall  f1-score   support\n",
      "\n",
      "      Clarius       0.01      0.09      0.02        79\n",
      "Coronavirucus       0.84      0.77      0.80       267\n",
      "    Esequlius       0.00      0.00      0.00         0\n",
      "       Marcus       0.97      0.50      0.66      2529\n",
      "     Mongucus       0.61      0.98      0.75       104\n",
      "   Paithonius       0.00      0.00      0.00         0\n",
      "    Philippus       0.02      0.27      0.04        26\n",
      "     Ubuntius       0.00      0.00      0.00         0\n",
      "\n",
      "     accuracy                           0.53      3005\n",
      "    macro avg       0.31      0.33      0.28      3005\n",
      " weighted avg       0.91      0.53      0.65      3005\n",
      "\n"
     ]
    },
    {
     "name": "stderr",
     "output_type": "stream",
     "text": [
      "/home/lee/anaconda3/envs/ironhack/lib/python3.8/site-packages/sklearn/linear_model/_sag.py:329: ConvergenceWarning: The max_iter was reached which means the coef_ did not converge\n",
      "  warnings.warn(\"The max_iter was reached which means \"\n",
      "/home/lee/anaconda3/envs/ironhack/lib/python3.8/site-packages/sklearn/metrics/_classification.py:1272: UndefinedMetricWarning: Recall and F-score are ill-defined and being set to 0.0 in labels with no true samples. Use `zero_division` parameter to control this behavior.\n",
      "  _warn_prf(average, modifier, msg_start, len(result))\n"
     ]
    }
   ],
   "source": [
    "# Definir y aplicar el modelo\n",
    "model_bruto_saga =  LogisticRegression(solver=\"saga\").fit(X_train, y_train)\n",
    "# Hacer la predicción\n",
    "y_test_pred = model_bruto_saga.predict(X_test)\n",
    "\n",
    "#comparison = pd.DataFrame({\"y_test_pred\":y_test_pred,\"gt\":y_test})\n",
    "#comparison\n",
    "\n",
    "print(classification_report(y_test_pred,y_test))"
   ]
  },
  {
   "cell_type": "markdown",
   "metadata": {},
   "source": [
    "* Datos en bruto. Solver: `newton-cg`"
   ]
  },
  {
   "cell_type": "code",
   "execution_count": 16,
   "metadata": {},
   "outputs": [
    {
     "name": "stdout",
     "output_type": "stream",
     "text": [
      "               precision    recall  f1-score   support\n",
      "\n",
      "      Clarius       0.09      0.38      0.15       146\n",
      "Coronavirucus       0.87      0.87      0.87       247\n",
      "    Esequlius       0.00      0.00      0.00         0\n",
      "       Marcus       0.94      0.55      0.69      2229\n",
      "     Mongucus       0.77      0.78      0.77       164\n",
      "   Paithonius       0.14      0.42      0.21        52\n",
      "    Philippus       0.25      0.49      0.33       167\n",
      "     Ubuntius       0.00      0.00      0.00         0\n",
      "\n",
      "     accuracy                           0.57      3005\n",
      "    macro avg       0.38      0.43      0.38      3005\n",
      " weighted avg       0.83      0.57      0.66      3005\n",
      "\n"
     ]
    },
    {
     "name": "stderr",
     "output_type": "stream",
     "text": [
      "/home/lee/anaconda3/envs/ironhack/lib/python3.8/site-packages/sklearn/metrics/_classification.py:1272: UndefinedMetricWarning: Recall and F-score are ill-defined and being set to 0.0 in labels with no true samples. Use `zero_division` parameter to control this behavior.\n",
      "  _warn_prf(average, modifier, msg_start, len(result))\n"
     ]
    }
   ],
   "source": [
    "# Definir y aplicar el modelo\n",
    "model_bruto_newton =  LogisticRegression(solver=\"newton-cg\").fit(X_train, y_train)\n",
    "# Hacer la predicción\n",
    "y_test_pred = model_bruto_newton.predict(X_test)\n",
    "\n",
    "print(classification_report(y_test_pred,y_test))\n"
   ]
  },
  {
   "cell_type": "markdown",
   "metadata": {},
   "source": [
    "* Datos sin outliers. Solver: `saga`"
   ]
  },
  {
   "cell_type": "code",
   "execution_count": 18,
   "metadata": {
    "scrolled": true
   },
   "outputs": [
    {
     "name": "stdout",
     "output_type": "stream",
     "text": [
      "               precision    recall  f1-score   support\n",
      "\n",
      "      Clarius       0.20      0.44      0.28       279\n",
      "Coronavirucus       0.97      1.00      0.98       220\n",
      "    Esequlius       0.03      0.18      0.05        17\n",
      "       Marcus       0.89      0.60      0.72      1674\n",
      "     Mongucus       0.86      0.87      0.86       142\n",
      "   Paithonius       0.24      0.54      0.33        63\n",
      "    Philippus       0.74      0.59      0.66       379\n",
      "     Ubuntius       0.02      0.27      0.04        11\n",
      "\n",
      "     accuracy                           0.62      2785\n",
      "    macro avg       0.49      0.56      0.49      2785\n",
      " weighted avg       0.78      0.62      0.68      2785\n",
      "\n"
     ]
    }
   ],
   "source": [
    "# Definir y aplicar el modelo\n",
    "model_out_saga =  LogisticRegression(solver='saga').fit(X_traincl, y_traincl)\n",
    "# Hacer la predicción\n",
    "y_test_pred = model_out_saga.predict(X_testcl)\n",
    "\n",
    "#comparison = pd.DataFrame({\"y_test_pred\":y_test_pred,\"gt\":y_test})\n",
    "#comparison\n",
    "\n",
    "print(classification_report(y_test_pred,y_testcl))"
   ]
  },
  {
   "cell_type": "markdown",
   "metadata": {},
   "source": [
    "* Datos sin outliers. Solver: `newton-cg`"
   ]
  },
  {
   "cell_type": "code",
   "execution_count": 19,
   "metadata": {},
   "outputs": [
    {
     "name": "stdout",
     "output_type": "stream",
     "text": [
      "               precision    recall  f1-score   support\n",
      "\n",
      "      Clarius       0.20      0.44      0.28       279\n",
      "Coronavirucus       0.97      1.00      0.98       220\n",
      "    Esequlius       0.03      0.18      0.05        17\n",
      "       Marcus       0.89      0.60      0.72      1674\n",
      "     Mongucus       0.86      0.87      0.86       142\n",
      "   Paithonius       0.24      0.54      0.33        63\n",
      "    Philippus       0.74      0.59      0.66       379\n",
      "     Ubuntius       0.02      0.27      0.04        11\n",
      "\n",
      "     accuracy                           0.62      2785\n",
      "    macro avg       0.49      0.56      0.49      2785\n",
      " weighted avg       0.78      0.62      0.68      2785\n",
      "\n"
     ]
    }
   ],
   "source": [
    "# Definir y aplicar el modelo\n",
    "model_out_newton =  LogisticRegression(solver='newton-cg').fit(X_traincl, y_traincl)\n",
    "# Hacer la predicción\n",
    "y_test_pred = model_out_newton.predict(X_testcl)\n",
    "\n",
    "print(classification_report(y_test_pred,y_testcl))"
   ]
  },
  {
   "cell_type": "markdown",
   "metadata": {},
   "source": [
    "OBSERVACIÓN: Funciona mejor con outliers."
   ]
  },
  {
   "cell_type": "markdown",
   "metadata": {},
   "source": [
    "#### Support Vector Classification \n",
    "\n",
    "* Datos en bruto. Como hay clases que tienen muy poca frecuencia, he optado por meter la ponderación"
   ]
  },
  {
   "cell_type": "code",
   "execution_count": 20,
   "metadata": {
    "scrolled": true
   },
   "outputs": [
    {
     "name": "stdout",
     "output_type": "stream",
     "text": [
      "               precision    recall  f1-score   support\n",
      "\n",
      "      Clarius       0.50      0.45      0.47       656\n",
      "Coronavirucus       0.88      0.83      0.85       261\n",
      "    Esequlius       0.51      0.16      0.24       330\n",
      "       Marcus       0.46      0.80      0.58       750\n",
      "     Mongucus       0.81      0.65      0.72       208\n",
      "   Paithonius       0.67      0.37      0.47       281\n",
      "    Philippus       0.33      0.48      0.39       222\n",
      "     Ubuntius       0.69      0.32      0.44       297\n",
      "\n",
      "     accuracy                           0.53      3005\n",
      "    macro avg       0.61      0.50      0.52      3005\n",
      " weighted avg       0.57      0.53      0.52      3005\n",
      "\n"
     ]
    }
   ],
   "source": [
    "# Definir y aplicar el modelo\n",
    "model_svc_bruto = SVC(kernel='linear', class_weight= 'balanced').fit(X_train, y_train)\n",
    "# Hacer la predicción\n",
    "y_test_pred = model_svc_bruto.predict(X_test)\n",
    "\n",
    "print(classification_report(y_test_pred,y_test))"
   ]
  },
  {
   "cell_type": "code",
   "execution_count": 27,
   "metadata": {
    "scrolled": true
   },
   "outputs": [
    {
     "name": "stdout",
     "output_type": "stream",
     "text": [
      "               precision    recall  f1-score   support\n",
      "\n",
      "      Clarius       0.00      0.40      0.01         5\n",
      "Coronavirucus       0.89      0.88      0.88       248\n",
      "    Esequlius       0.00      0.00      0.00         0\n",
      "       Marcus       0.98      0.53      0.69      2427\n",
      "     Mongucus       0.75      0.87      0.80       144\n",
      "   Paithonius       0.03      0.42      0.06        12\n",
      "    Philippus       0.33      0.63      0.43       169\n",
      "     Ubuntius       0.00      0.00      0.00         0\n",
      "\n",
      "     accuracy                           0.58      3005\n",
      "    macro avg       0.37      0.46      0.36      3005\n",
      " weighted avg       0.92      0.58      0.69      3005\n",
      "\n"
     ]
    },
    {
     "name": "stderr",
     "output_type": "stream",
     "text": [
      "/home/lee/anaconda3/envs/ironhack/lib/python3.8/site-packages/sklearn/metrics/_classification.py:1272: UndefinedMetricWarning: Recall and F-score are ill-defined and being set to 0.0 in labels with no true samples. Use `zero_division` parameter to control this behavior.\n",
      "  _warn_prf(average, modifier, msg_start, len(result))\n"
     ]
    }
   ],
   "source": [
    "# Definir y aplicar el modelo sin ponderar\n",
    "model_svc_bruto = SVC(kernel='linear').fit(X_train, y_train)\n",
    "# Hacer la predicción\n",
    "y_test_pred = model_svc_bruto.predict(X_test)\n",
    "\n",
    "print(classification_report(y_test_pred,y_test))"
   ]
  },
  {
   "cell_type": "markdown",
   "metadata": {},
   "source": [
    "Gradient Boosting Classifer"
   ]
  },
  {
   "cell_type": "code",
   "execution_count": 56,
   "metadata": {},
   "outputs": [],
   "source": [
    "model_gbc_bruto = GradientBoostingClassifier(criterion= 'friedman_mse', init=None,\n",
    " learning_rate=0.1, loss='deviance', max_depth=3,\n",
    " max_features= None, max_leaf_nodes= 120 , min_samples_leaf= 50,\n",
    " min_samples_split=2, min_weight_fraction_leaf=0.0,\n",
    " n_estimators=32,  random_state=None, subsample=0.8, verbose=0, warm_start=False).fit(X_train, y_train)\n",
    "# Hacer la predicción\n",
    "y_test_pred = model_gbc_bruto.predict(X_test)"
   ]
  },
  {
   "cell_type": "code",
   "execution_count": 57,
   "metadata": {
    "scrolled": true
   },
   "outputs": [
    {
     "name": "stdout",
     "output_type": "stream",
     "text": [
      "               precision    recall  f1-score   support\n",
      "\n",
      "      Clarius       0.56      0.81      0.67       403\n",
      "Coronavirucus       0.98      1.00      0.99       241\n",
      "    Esequlius       0.90      0.90      0.90       101\n",
      "       Marcus       0.92      0.77      0.84      1549\n",
      "     Mongucus       0.88      0.95      0.92       154\n",
      "   Paithonius       0.69      0.85      0.76       125\n",
      "    Philippus       0.81      0.82      0.81       322\n",
      "     Ubuntius       0.67      0.84      0.74       110\n",
      "\n",
      "     accuracy                           0.82      3005\n",
      "    macro avg       0.80      0.87      0.83      3005\n",
      " weighted avg       0.85      0.82      0.83      3005\n",
      "\n"
     ]
    }
   ],
   "source": [
    "print(classification_report(y_test_pred,y_test))"
   ]
  },
  {
   "cell_type": "markdown",
   "metadata": {},
   "source": [
    "Ouh mamma, o he dado con la tecla o hay overfitting. Parece que al bajar el número de estimadores a 32, los resultados son más creíbles."
   ]
  },
  {
   "cell_type": "markdown",
   "metadata": {},
   "source": [
    "## What do I do once I have a prediction?"
   ]
  },
  {
   "cell_type": "markdown",
   "metadata": {},
   "source": [
    "Once you have already trained your model and made a prediction with it, you are ready to check what is the accuracy of it. \n",
    "\n",
    "Save your prediction as a `.csv` file."
   ]
  },
  {
   "cell_type": "markdown",
   "metadata": {},
   "source": [
    "#### Regresión logística. solve = 'saga'. Datos brutos"
   ]
  },
  {
   "cell_type": "code",
   "execution_count": 26,
   "metadata": {},
   "outputs": [],
   "source": [
    "# Correr el modelo con todos los datos. \n",
    "# He subido el número de max_iter \n",
    "model_bruto_saga =  LogisticRegression(solver=\"saga\", max_iter= 5000).fit(X, y['autor']) \n",
    "\n",
    "# Hacer la predicción con el test set\n",
    "y_pred_bruto_saga = model_bruto_saga.predict(test_dataset)\n",
    "\n",
    "# Guardar la predicción\n",
    "sub_bruto_saga = pd.DataFrame(y_pred_bruto_saga).to_csv(header=None)"
   ]
  },
  {
   "cell_type": "markdown",
   "metadata": {},
   "source": [
    "#### Regresión logística. solve = 'newton-cg'. Datos brutos"
   ]
  },
  {
   "cell_type": "code",
   "execution_count": 61,
   "metadata": {},
   "outputs": [],
   "source": [
    "# Correr el modelo con todos los datos. \n",
    "# He subido el número de max_iter \n",
    "model_bruto_newton =  LogisticRegression(solver=\"newton-cg\", max_iter= 5000).fit(X, y['autor']) \n",
    "\n",
    "# Hacer la predicción con el test set\n",
    "y_pred_bruto_newton = model_bruto_newton.predict(test_dataset)\n",
    "\n",
    "# Guardar la predicción\n",
    "sub_bruto_newton = pd.DataFrame(y_pred_bruto_newton).to_csv(header=None)"
   ]
  },
  {
   "cell_type": "markdown",
   "metadata": {},
   "source": [
    "#### SVC. Ponderados. Datos brutos"
   ]
  },
  {
   "cell_type": "code",
   "execution_count": 28,
   "metadata": {},
   "outputs": [],
   "source": [
    "# Correr el modelo con todos los datos\n",
    "model_svc_bruto = SVC(kernel='linear', class_weight= 'balanced').fit(X, y['autor'])\n",
    "# Hacer la predicción\n",
    "y_pred_todo = model_svc_bruto.predict(test_dataset)\n",
    "sub_svc_bruto = pd.DataFrame(y_pred_todo).to_csv(header=None)"
   ]
  },
  {
   "cell_type": "markdown",
   "metadata": {},
   "source": [
    "#### Gradient Boosting Classifer. n_estimators = 32. Datos brutos\n"
   ]
  },
  {
   "cell_type": "code",
   "execution_count": 58,
   "metadata": {},
   "outputs": [],
   "source": [
    "model_gbc_bruto = GradientBoostingClassifier(criterion= 'friedman_mse', init=None,\n",
    " learning_rate=0.1, loss='deviance', max_depth=3,\n",
    " max_features= None, max_leaf_nodes= 120 , min_samples_leaf= 50,\n",
    " min_samples_split=2, min_weight_fraction_leaf=0.0,\n",
    " n_estimators=32,  random_state=None, subsample=0.8, verbose=0, warm_start=False).fit(X, y['autor'])\n",
    "# Hacer la predicción\n",
    "y_pred_todo = model_gbc_bruto.predict(test_dataset)\n",
    "sub_gbcbruto = pd.DataFrame(y_pred_todo).to_csv(header=None)"
   ]
  },
  {
   "cell_type": "markdown",
   "metadata": {},
   "source": [
    "Now you are ready to know the truth! Are you good enough to call yourself a pro?\n",
    "\n",
    "Lucky you have the ultimate **APIla-bible** which give you the chance of checking the accuracy of your predictions as many times as you need in order to become the pro you want to be. "
   ]
  },
  {
   "cell_type": "markdown",
   "metadata": {},
   "source": [
    "## How do I post my prediction to the APIla-bible?"
   ]
  },
  {
   "cell_type": "markdown",
   "metadata": {},
   "source": [
    "Easy peasy! You should only fulfil the path to your prediction `.csv` and run the cell below! "
   ]
  },
  {
   "cell_type": "code",
   "execution_count": 62,
   "metadata": {},
   "outputs": [
    {
     "data": {
      "text/plain": [
       "{'accuracy': 0.5750124812780829,\n",
       " 'quote': 'Nope, not good enough. But you shall rise as the glorious phoenix from the ashes of this score and get to the top!'}"
      ]
     },
     "execution_count": 62,
     "metadata": {},
     "output_type": "execute_result"
    }
   ],
   "source": [
    "res = requests.post(\"http://apila-bible.herokuapp.com/check\", files={\"csv_data\":sub_bruto_newton })\n",
    "res.json()"
   ]
  },
  {
   "cell_type": "code",
   "execution_count": 3,
   "metadata": {},
   "outputs": [
    {
     "data": {
      "text/html": [
       "<div>\n",
       "<style scoped>\n",
       "    .dataframe tbody tr th:only-of-type {\n",
       "        vertical-align: middle;\n",
       "    }\n",
       "\n",
       "    .dataframe tbody tr th {\n",
       "        vertical-align: top;\n",
       "    }\n",
       "\n",
       "    .dataframe thead th {\n",
       "        text-align: right;\n",
       "    }\n",
       "</style>\n",
       "<table border=\"1\" class=\"dataframe\">\n",
       "  <thead>\n",
       "    <tr style=\"text-align: right;\">\n",
       "      <th></th>\n",
       "      <th>modelo</th>\n",
       "      <th>datos</th>\n",
       "      <th>accuracy</th>\n",
       "    </tr>\n",
       "  </thead>\n",
       "  <tbody>\n",
       "    <tr>\n",
       "      <th>0</th>\n",
       "      <td>LogisticRegression(solver='newton-cg')</td>\n",
       "      <td>brutos</td>\n",
       "      <td>0.5750</td>\n",
       "    </tr>\n",
       "    <tr>\n",
       "      <th>1</th>\n",
       "      <td>LogisticRegression(solver='saga')</td>\n",
       "      <td>brutos</td>\n",
       "      <td>0.5750</td>\n",
       "    </tr>\n",
       "    <tr>\n",
       "      <th>2</th>\n",
       "      <td>SVC(kernel= 'lineal', class_weight= 'balanced')</td>\n",
       "      <td>brutos</td>\n",
       "      <td>0.5374</td>\n",
       "    </tr>\n",
       "    <tr>\n",
       "      <th>3</th>\n",
       "      <td>GBC(n_estimators= 32)</td>\n",
       "      <td>brutos</td>\n",
       "      <td>0.8085</td>\n",
       "    </tr>\n",
       "  </tbody>\n",
       "</table>\n",
       "</div>"
      ],
      "text/plain": [
       "                                            modelo   datos  accuracy\n",
       "0           LogisticRegression(solver='newton-cg')  brutos    0.5750\n",
       "1                LogisticRegression(solver='saga')  brutos    0.5750\n",
       "2  SVC(kernel= 'lineal', class_weight= 'balanced')  brutos    0.5374\n",
       "3                            GBC(n_estimators= 32)  brutos    0.8085"
      ]
     },
     "execution_count": 3,
     "metadata": {},
     "output_type": "execute_result"
    }
   ],
   "source": [
    "# Almacenar los resultados \n",
    "resultados = [\n",
    "    {\"modelo\": \"LogisticRegression(solver='newton-cg')\",\n",
    "     \"datos\": \"brutos\",\n",
    "    \"accuracy\": 0.5750 },\n",
    "    {\"modelo\": \"LogisticRegression(solver='saga')\",\n",
    "     \"datos\": \"brutos\",\n",
    "    \"accuracy\": 0.5750 },\n",
    "    {\"modelo\": \"SVC(kernel= 'lineal', class_weight= 'balanced')\",\n",
    "     \"datos\": \"brutos\",\n",
    "    \"accuracy\": 0.5374 },\n",
    "    {\"modelo\": \"GBC(n_estimators= 32)\",\n",
    "     \"datos\": \"brutos\",\n",
    "    \"accuracy\":0.8085 }\n",
    "    ]\n",
    "\n",
    "# Convertir a dataframe\n",
    "df = pd.DataFrame(resultados)\n",
    "df"
   ]
  },
  {
   "cell_type": "markdown",
   "metadata": {},
   "source": [
    "![hope-you-enjoy](https://imgs.xkcd.com/comics/machine_learning.png)"
   ]
  }
 ],
 "metadata": {
  "kernelspec": {
   "display_name": "Python 3",
   "language": "python",
   "name": "python3"
  },
  "language_info": {
   "codemirror_mode": {
    "name": "ipython",
    "version": 3
   },
   "file_extension": ".py",
   "mimetype": "text/x-python",
   "name": "python",
   "nbconvert_exporter": "python",
   "pygments_lexer": "ipython3",
   "version": "3.8.1"
  }
 },
 "nbformat": 4,
 "nbformat_minor": 2
}
